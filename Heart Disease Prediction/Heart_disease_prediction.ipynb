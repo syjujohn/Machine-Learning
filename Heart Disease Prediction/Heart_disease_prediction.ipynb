{
 "cells": [
  {
   "cell_type": "markdown",
   "metadata": {},
   "source": [
    "\n",
    "<H1 style=\"border:#5D5C61;border-width:20px; border-style:ridge;background-color:#244085;\"><br> <p style=\"color:white;text-align:center;\">Heart Disease Prediction     </p></H1>\n",
    "<hr>                            \n",
    "\n",
    "<H2 style=\"border:#5D5C61;border-width:7px; border-style:ridge; background-color:orange;\"> <br> <i>Problem Statement</i><br></H2>\n",
    "<div style=\"border:black;border-width:1px; border-style:solid; background-color:#5D5C61;\">\n",
    "<pre>\n",
    "<p style=\"border:black;border-width:3px; border-style:solid; background-color:#CBD0C0;\">\n",
    "      Create a robust Machine learning model that will be able to predict whether a patient is having\n",
    "      a Heart disease from the available diagnostic reports.\n",
    "      Also identify which attributes or test results, can be used for an accurate positive identification\n",
    "      for the presence of heart disease. <br>\n",
    "</p>\n",
    "</pre>\n",
    "</div>    \n",
    "\n",
    "<H2 style=\"border:#5D5C61;border-width:7px; border-style:ridge;background-color:#3476A2;text-align: justify;\"><br> I) <i> Collate the data </i><br></H2>\n",
    "<div style=\"border:black;border-width:1px; border-style:solid; background-color:#5D5C61;\">\n",
    "    \n",
    "<pre>\n",
    "<p style=\"border:black;border-width:3px; border-style:solid; background-color:#CBD0C0;\">\n",
    "   1) Read the two csv files into dataframes \n",
    "   2) Merge the two dataframes to create one single dataframe<br>\n",
    "</p> \n",
    "</pre>\n",
    "</div>\n",
    "<H2 style=\"border:#5D5C61;border-width:7px; border-style:ridge; background-color:#3476A2;\"> <br>II) <i>EDA </i><br></H2>\n",
    "<div style=\"border:black;border-width:1px; border-style:solid; background-color:#5D5C61;\">\n",
    "<pre>\n",
    "<p style=\"border:black;border-width:3px; border-style:solid; background-color:#CBD0C0;\">\n",
    "    1) Check for Null\n",
    "    2) Decsribe the data\n",
    "    3) Check for outliers (box plots)\n",
    "    4) check if the data is balanced\n",
    "    5) Plot the pairplots\n",
    " </p>  \n",
    "</pre>\n",
    "</div>\n",
    "\n",
    "<H2 style=\"border:#5D5C61;border-width:7px; border-style:ridge; background-color:#3476A2;\"><br> III)  <i> Outlier handling </i><br></H2>\n",
    "<div style=\"border:black;border-width:1px; border-style:solid; background-color:#5D5C61;\">\n",
    "    \n",
    "<pre>\n",
    "<p style=\"border:black;border-width:3px; border-style:solid; background-color:#CBD0C0;\">\n",
    "    1) Checked for outliers in the box plots done\n",
    "    2) outliers observed in \"resting_blood_pressure\", \"serum_cholestrol_mg_per_dl\",\"oldpeak_eq_st_depression\"<br>\n",
    "</p>    \n",
    "</pre>\n",
    "<pre> <i>\n",
    "<p style=\"border:black;border-width:3px; border-style:solid; background-color:#CBD0C0;\">\n",
    "        a) resting_blood_pressure shows outliers in the box plot, but the maximum value shown is 180 which even though\n",
    "           high is not considered an impossible value. A value of 180 and more is considered Hypertensive crisis and \n",
    "           does require immediate medical attension. Hence ignore this variable from the outliers\n",
    "        b) oldpeak_eq_st_depression  also showed outliers in the box plot but this was also ignored as the \n",
    "           varaitions in the data was not too large.\n",
    "        c) the outliers for serum_cholestrol_mg_per_dl is handled by transforming the values\n",
    "</p>\n",
    "</i></pre>\n",
    " <pre>      \n",
    " <p style=\"border:black;border-width:3px; border-style:solid; background-color:#CBD0C0;\">\n",
    "    3) A value of 240 and above is considered as high for serum cholestrol. So all outliers for this variable have been \n",
    "       transformed to the 50th quartile which is 245.\n",
    "</p>\n",
    "</pre>  \n",
    "</div>\n",
    "\n",
    "<H2 style=\"border:#5D5C61;border-width:7px; border-style:ridge; background-color:#3476A2;\"><br> IV) <i>Convert catogorical data in the form of strings to numerical data <br></i></H2>\n",
    "<div style=\"border:black;border-width:1px; border-style:solid; background-color:#5D5C61;\">\n",
    "<pre>\n",
    "<p style=\"border:black;border-width:3px; border-style:solid; background-color:#CBD0C0;\">\n",
    "    The values for the variable thal is representended as fixed_defect, normal and reversible_defect. It is needed to \n",
    "    convert this to numerical data. For this we considered two seperate methods.\n",
    "</p>\n",
    "</pre>       \n",
    "<pre>\n",
    "<p style=\"border:black;border-width:3px; border-style:solid; background-color:#CBD0C0;\">\n",
    "         1) Label encoding: using label encoding the three values of thal was coded as 0,1 and 2. A problem observed in \n",
    "            this method was during passing these values to the algorithms, the algorithms seemed to be giving \n",
    "            additional priority for these values as it mistook the numbers to be in order as 0 < 1 < 2.\n",
    "         2) get_dummies Method: using this method the three new columns were created each representing one value of the \n",
    "            variable thal. This method ensured that no unwanted priorities were assigned to thal values.\n",
    "</p>\n",
    "</pre>     \n",
    "<pre>\n",
    "<p style=\"border:black;border-width:3px; border-style:solid; background-color:#CBD0C0;\">\n",
    "    After observing both the methods,  the get_dummies method has been selected in this project. \n",
    "    The original column for thal is dropped and the newly created three columns for thal is merged to the data.\n",
    "</p>\n",
    "</pre>    \n",
    "</div>\n",
    ".\n",
    "<H2 style=\"border:#5D5C61;border-width:7px; border-style:ridge; background-color:#3476A2;\"><br> V) <i>Split X and y </i><br></H2>\n",
    "<div style=\"border:black;border-width:1px; border-style:solid; background-color:#5D5C61;\">\n",
    "    \n",
    "<pre>\n",
    "<p style=\"border:black;border-width:3px; border-style:solid; background-color:#CBD0C0;\">\n",
    "    1) The independent variables X is created by dropping the \"patient id\" and \"heart disease present\" columns    \n",
    "    2) The dependant variable y was created by taking the \"heart disease present\" column\n",
    "    3) train test split done taking 30% as the test data \n",
    "    4) Scale the data using standard scaler for the selected columns of \"resting_blood_pressure\", \n",
    "       serum_cholesterol_mg_per_dl, oldpeak_eq_st_depression, age, max_heart_rate_achieved.\n",
    "    5) ColumnTransformer method used along with standard scaler as columns differ in data types and also \n",
    "       only selected columns need to be transformed.\n",
    "</p>\n",
    "</pre>\n",
    "</div>\n",
    "\n",
    "<H2 style=\"border:#5D5C61;border-width:7px; border-style:ridge; background-color:#3476A2;\"><br> VI) <i> Balance the data with SMOTE </i><br></H2>\n",
    "<div style=\"border:black;border-width:1px; border-style:solid; background-color:#5D5C61;\">\n",
    "    \n",
    "<pre>\n",
    "<p style=\"border:black;border-width:3px; border-style:solid; background-color:#CBD0C0;\">\n",
    "    1) Applied SMOTE to make the data balanced\n",
    "    2) Verified that the resulting dataframe is balanced\n",
    "    3) The new modified data is collated into a dataframe<br>\n",
    "</p>\n",
    "</pre>   \n",
    "</div>\n",
    "\n",
    "<H2 style=\"border:#5D5C61;border-width:7px; border-style:ridge; background-color:#3476A2;\"><br> VII) <i>Feature Selection </i><br></H2>\n",
    "<div style=\"border:black;border-width:1px; border-style:solid; background-color:#5D5C61;\">\n",
    "    \n",
    "<pre>\n",
    "<p style=\"border:black;border-width:3px; border-style:solid; background-color:#CBD0C0;\">\n",
    "    Two methods of feature selection were tried out<br>\n",
    "</p>\n",
    "</pre>\n",
    "<pre>\n",
    "<p style=\"border:black;border-width:3px; border-style:solid; background-color:#CBD0C0;\">\n",
    "    1) RFE (recursive feature elimination) using DecisionTreeClassifier and then using stratified k-fold \n",
    "       cross validation to evaluate the model\n",
    "    2) Using SelectFromModel and LogisticRegressionCV<br>\n",
    "</p>\n",
    "</pre>\n",
    "<pre>\n",
    "<p style=\"border:black;border-width:3px; border-style:solid; background-color:#CBD0C0;\">\n",
    "    The results from the second method Using SelectFromModel and LogisticRegressionCV is taken, as the \n",
    "    features obtained in this method were coraborating with the features that were being shown as \n",
    "    relevant even in the heat map plot.\n",
    "    \n",
    "    New Dataframe with only the selected features is created<br>\n",
    "</p>\n",
    "</pre>\n",
    "</div>  \n",
    "<H2 style=\"border:#5D5C61;border-width:7px; border-style:ridge; background-color:#3476A2;\"><br> VIII) <i>Applying  Algorithms </i><br></H2>\n",
    "<div style=\"border:black;border-width:1px; border-style:solid; background-color:#5D5C61;\">\n",
    "    \n",
    "<pre>\n",
    "<p style=\"border:black;border-width:3px; border-style:solid; background-color:#CBD0C0;\">\n",
    "    A user defined function predict_threshold was created to list out the confusion matrix,recall_score,\n",
    "    accuracy_score and F1_score for different threshold values.<br>\n",
    "</p>\n",
    "</pre>\n",
    "<pre>\n",
    "<p style=\"border:black;border-width:3px; border-style:solid; background-color:#CBD0C0;\">\n",
    "    The following algorithms were tested out\n",
    "      1) Logistic Regression\n",
    "      2) KNN\n",
    "      3) Random Forest\n",
    "      4) Gradient Boosting\n",
    "      5) Naive Bayes\n",
    "    The best threshold value for each of the algorithms were selected by choosing the one which produced \n",
    "    no false negative values\n",
    "    The ROC curve is plotted for each of the algorithms showing all probabilities as a solid green line\n",
    "    The ROC curve for the selected threshold was superimposed over the curve for all probabilities as \n",
    "    a red dotted line.<br>\n",
    "</p>\n",
    "</pre>\n",
    "<pre>\n",
    "<p style=\"border:black;border-width:3px; border-style:solid; background-color:#CBD0C0;\">\n",
    "\n",
    "      - A summary of all the metrics generated for all the models is printed along side for comparission\n",
    "      - Among all the algoritms KNN was selected as the best fit as it provided a good accuracy score and\n",
    "        more over had the best recall scores and good ROC score.<br>\n",
    "</p>\n",
    "</pre>\n",
    "</div>   \n",
    "\n",
    "<H2 style=\"border:#5D5C61;border-width:7px; border-style:ridge; background-color:#3476A2;\"> <br> IX) <i>checking out algorithms using CV instead of test train split <br></i></H2>\n",
    "<div style=\"border:black;border-width:1px; border-style:solid; background-color:#5D5C61;\">\n",
    "    \n",
    "<pre>\n",
    "<p style=\"border:black;border-width:3px; border-style:solid; background-color:#CBD0C0;\">\n",
    "       As an alternate to train test split method, CV is also tested out for the below  ML Algorithms\n",
    "        1) models that require no scaling \n",
    "            A) Random Forest\n",
    "            B) Naive Bayes\n",
    "         2) Models requiring scaling\n",
    "            A) Logistic Regression\n",
    "            B) KNN <br>\n",
    "</p>\n",
    "</pre>\n",
    "<pre>\n",
    "<p style=\"border:black;border-width:3px; border-style:solid; background-color:#CBD0C0;\">\n",
    "       The results generated using CV instead of Train test split did not improve the metrics of the selected\n",
    "       Algorithms. As a result the CV method was discarded and the train test split methodology is adopted.<br>\n",
    "</p>\n",
    "</pre>\n",
    "</div>\n",
    "\n",
    "<H2 style=\"border:#5D5C61;border-width:7px; border-style:ridge; background-color:#3476A2;\"> <br> X) <i>Hyper parameter tunning <br></i></H2>\n",
    "<div style=\"border:black;border-width:1px; border-style:solid; background-color:#5D5C61;\">\n",
    "    \n",
    "<pre>\n",
    "<p style=\"border:black;border-width:3px; border-style:solid; background-color:#CBD0C0;\">\n",
    "\n",
    "       - From previous steps we had identified KNN as the model that is best suited.\n",
    "       - Created a custom function named \"evaluate\" which evaluates the recall and average error of the\n",
    "         estimator model passed\n",
    "       - Created a custom function improvement to calculate the percentage improvement in recall from \n",
    "         different models\n",
    "       - Identified optimal values using Random search\n",
    "       - Refined the optimal values found using Grid Search <br>\n",
    "       \n",
    "      \n",
    "</p>       \n",
    "</pre>\n",
    "</div>\n",
    "\n",
    "<H2 style=\"border:#5D5C61;border-width:7px; border-style:ridge; background-color:green;\"> <br><i> Conclusion <br></i></H2>\n",
    "<div style=\"border:black;border-width:1px; border-style:solid; background-color:#5D5C61;\">\n",
    "<pre>\n",
    "<p style=\"border:black;border-width:3px; border-style:solid; background-color:#CBD0C0;\">\n",
    "        The best model is obtained by using the KNN Algorithm\n",
    "        The optimized model provides an accuracy of 90.74%\n",
    "        The optimized model provides a recall of 95.83% <br>\n",
    "        \n",
    "</p>\n",
    "</pre>\n",
    "</div>\n",
    "    \n",
    "\n",
    "<H2 style=\"border:#5D5C61;border-width:7px; border-style:ridge; background-color:#3476A2;\"><br> <i>Import the libraries <br></i></H2>"
   ]
  },
  {
   "cell_type": "code",
   "execution_count": 1,
   "metadata": {},
   "outputs": [],
   "source": [
    "import pandas as pd\n",
    "import numpy as np\n",
    "import matplotlib.pyplot as plt\n",
    "import seaborn as sns\n",
    "\n",
    "from sklearn.model_selection import train_test_split\n",
    "from sklearn.preprocessing import StandardScaler\n",
    "from imblearn.over_sampling import SMOTE \n",
    "\n",
    "     \n",
    "from sklearn.metrics import accuracy_score,recall_score,precision_score,confusion_matrix,f1_score,classification_report  \n",
    "\n",
    "\n",
    "import warnings\n",
    "warnings.filterwarnings('ignore')\n"
   ]
  },
  {
   "cell_type": "markdown",
   "metadata": {},
   "source": [
    "<H2 style=\"border:#5D5C61;border-width:7px; border-style:ridge; background-color:#3476A2;\"><br><i>Read the dataset <br></i></H2>"
   ]
  },
  {
   "cell_type": "code",
   "execution_count": 2,
   "metadata": {},
   "outputs": [
    {
     "data": {
      "text/html": [
       "<div>\n",
       "<style scoped>\n",
       "    .dataframe tbody tr th:only-of-type {\n",
       "        vertical-align: middle;\n",
       "    }\n",
       "\n",
       "    .dataframe tbody tr th {\n",
       "        vertical-align: top;\n",
       "    }\n",
       "\n",
       "    .dataframe thead th {\n",
       "        text-align: right;\n",
       "    }\n",
       "</style>\n",
       "<table border=\"1\" class=\"dataframe\">\n",
       "  <thead>\n",
       "    <tr style=\"text-align: right;\">\n",
       "      <th></th>\n",
       "      <th>patient_id</th>\n",
       "      <th>slope_of_peak_exercise_st_segment</th>\n",
       "      <th>thal</th>\n",
       "      <th>resting_blood_pressure</th>\n",
       "      <th>chest_pain_type</th>\n",
       "      <th>num_major_vessels</th>\n",
       "      <th>fasting_blood_sugar_gt_120_mg_per_dl</th>\n",
       "      <th>resting_ekg_results</th>\n",
       "      <th>serum_cholesterol_mg_per_dl</th>\n",
       "      <th>oldpeak_eq_st_depression</th>\n",
       "      <th>sex</th>\n",
       "      <th>age</th>\n",
       "      <th>max_heart_rate_achieved</th>\n",
       "      <th>exercise_induced_angina</th>\n",
       "    </tr>\n",
       "  </thead>\n",
       "  <tbody>\n",
       "    <tr>\n",
       "      <th>0</th>\n",
       "      <td>0z64un</td>\n",
       "      <td>1</td>\n",
       "      <td>normal</td>\n",
       "      <td>128</td>\n",
       "      <td>2</td>\n",
       "      <td>0</td>\n",
       "      <td>0</td>\n",
       "      <td>2</td>\n",
       "      <td>308</td>\n",
       "      <td>0.0</td>\n",
       "      <td>1</td>\n",
       "      <td>45</td>\n",
       "      <td>170</td>\n",
       "      <td>0</td>\n",
       "    </tr>\n",
       "    <tr>\n",
       "      <th>1</th>\n",
       "      <td>ryoo3j</td>\n",
       "      <td>2</td>\n",
       "      <td>normal</td>\n",
       "      <td>110</td>\n",
       "      <td>3</td>\n",
       "      <td>0</td>\n",
       "      <td>0</td>\n",
       "      <td>0</td>\n",
       "      <td>214</td>\n",
       "      <td>1.6</td>\n",
       "      <td>0</td>\n",
       "      <td>54</td>\n",
       "      <td>158</td>\n",
       "      <td>0</td>\n",
       "    </tr>\n",
       "    <tr>\n",
       "      <th>2</th>\n",
       "      <td>yt1s1x</td>\n",
       "      <td>1</td>\n",
       "      <td>normal</td>\n",
       "      <td>125</td>\n",
       "      <td>4</td>\n",
       "      <td>3</td>\n",
       "      <td>0</td>\n",
       "      <td>2</td>\n",
       "      <td>304</td>\n",
       "      <td>0.0</td>\n",
       "      <td>1</td>\n",
       "      <td>77</td>\n",
       "      <td>162</td>\n",
       "      <td>1</td>\n",
       "    </tr>\n",
       "    <tr>\n",
       "      <th>3</th>\n",
       "      <td>l2xjde</td>\n",
       "      <td>1</td>\n",
       "      <td>reversible_defect</td>\n",
       "      <td>152</td>\n",
       "      <td>4</td>\n",
       "      <td>0</td>\n",
       "      <td>0</td>\n",
       "      <td>0</td>\n",
       "      <td>223</td>\n",
       "      <td>0.0</td>\n",
       "      <td>1</td>\n",
       "      <td>40</td>\n",
       "      <td>181</td>\n",
       "      <td>0</td>\n",
       "    </tr>\n",
       "    <tr>\n",
       "      <th>4</th>\n",
       "      <td>oyt4ek</td>\n",
       "      <td>3</td>\n",
       "      <td>reversible_defect</td>\n",
       "      <td>178</td>\n",
       "      <td>1</td>\n",
       "      <td>0</td>\n",
       "      <td>0</td>\n",
       "      <td>2</td>\n",
       "      <td>270</td>\n",
       "      <td>4.2</td>\n",
       "      <td>1</td>\n",
       "      <td>59</td>\n",
       "      <td>145</td>\n",
       "      <td>0</td>\n",
       "    </tr>\n",
       "    <tr>\n",
       "      <th>...</th>\n",
       "      <td>...</td>\n",
       "      <td>...</td>\n",
       "      <td>...</td>\n",
       "      <td>...</td>\n",
       "      <td>...</td>\n",
       "      <td>...</td>\n",
       "      <td>...</td>\n",
       "      <td>...</td>\n",
       "      <td>...</td>\n",
       "      <td>...</td>\n",
       "      <td>...</td>\n",
       "      <td>...</td>\n",
       "      <td>...</td>\n",
       "      <td>...</td>\n",
       "    </tr>\n",
       "    <tr>\n",
       "      <th>175</th>\n",
       "      <td>5qfar3</td>\n",
       "      <td>2</td>\n",
       "      <td>reversible_defect</td>\n",
       "      <td>125</td>\n",
       "      <td>4</td>\n",
       "      <td>2</td>\n",
       "      <td>1</td>\n",
       "      <td>0</td>\n",
       "      <td>254</td>\n",
       "      <td>0.2</td>\n",
       "      <td>1</td>\n",
       "      <td>67</td>\n",
       "      <td>163</td>\n",
       "      <td>0</td>\n",
       "    </tr>\n",
       "    <tr>\n",
       "      <th>176</th>\n",
       "      <td>2s2b1f</td>\n",
       "      <td>2</td>\n",
       "      <td>normal</td>\n",
       "      <td>180</td>\n",
       "      <td>4</td>\n",
       "      <td>0</td>\n",
       "      <td>0</td>\n",
       "      <td>1</td>\n",
       "      <td>327</td>\n",
       "      <td>3.4</td>\n",
       "      <td>0</td>\n",
       "      <td>55</td>\n",
       "      <td>117</td>\n",
       "      <td>1</td>\n",
       "    </tr>\n",
       "    <tr>\n",
       "      <th>177</th>\n",
       "      <td>nsd00i</td>\n",
       "      <td>2</td>\n",
       "      <td>reversible_defect</td>\n",
       "      <td>125</td>\n",
       "      <td>3</td>\n",
       "      <td>0</td>\n",
       "      <td>0</td>\n",
       "      <td>0</td>\n",
       "      <td>309</td>\n",
       "      <td>1.8</td>\n",
       "      <td>1</td>\n",
       "      <td>64</td>\n",
       "      <td>131</td>\n",
       "      <td>1</td>\n",
       "    </tr>\n",
       "    <tr>\n",
       "      <th>178</th>\n",
       "      <td>0xw93k</td>\n",
       "      <td>1</td>\n",
       "      <td>normal</td>\n",
       "      <td>124</td>\n",
       "      <td>3</td>\n",
       "      <td>2</td>\n",
       "      <td>1</td>\n",
       "      <td>0</td>\n",
       "      <td>255</td>\n",
       "      <td>0.0</td>\n",
       "      <td>1</td>\n",
       "      <td>48</td>\n",
       "      <td>175</td>\n",
       "      <td>0</td>\n",
       "    </tr>\n",
       "    <tr>\n",
       "      <th>179</th>\n",
       "      <td>2nx10r</td>\n",
       "      <td>1</td>\n",
       "      <td>normal</td>\n",
       "      <td>160</td>\n",
       "      <td>3</td>\n",
       "      <td>1</td>\n",
       "      <td>0</td>\n",
       "      <td>0</td>\n",
       "      <td>201</td>\n",
       "      <td>0.0</td>\n",
       "      <td>0</td>\n",
       "      <td>54</td>\n",
       "      <td>163</td>\n",
       "      <td>0</td>\n",
       "    </tr>\n",
       "  </tbody>\n",
       "</table>\n",
       "<p>180 rows × 14 columns</p>\n",
       "</div>"
      ],
      "text/plain": [
       "    patient_id  slope_of_peak_exercise_st_segment               thal  \\\n",
       "0       0z64un                                  1             normal   \n",
       "1       ryoo3j                                  2             normal   \n",
       "2       yt1s1x                                  1             normal   \n",
       "3       l2xjde                                  1  reversible_defect   \n",
       "4       oyt4ek                                  3  reversible_defect   \n",
       "..         ...                                ...                ...   \n",
       "175     5qfar3                                  2  reversible_defect   \n",
       "176     2s2b1f                                  2             normal   \n",
       "177     nsd00i                                  2  reversible_defect   \n",
       "178     0xw93k                                  1             normal   \n",
       "179     2nx10r                                  1             normal   \n",
       "\n",
       "     resting_blood_pressure  chest_pain_type  num_major_vessels  \\\n",
       "0                       128                2                  0   \n",
       "1                       110                3                  0   \n",
       "2                       125                4                  3   \n",
       "3                       152                4                  0   \n",
       "4                       178                1                  0   \n",
       "..                      ...              ...                ...   \n",
       "175                     125                4                  2   \n",
       "176                     180                4                  0   \n",
       "177                     125                3                  0   \n",
       "178                     124                3                  2   \n",
       "179                     160                3                  1   \n",
       "\n",
       "     fasting_blood_sugar_gt_120_mg_per_dl  resting_ekg_results  \\\n",
       "0                                       0                    2   \n",
       "1                                       0                    0   \n",
       "2                                       0                    2   \n",
       "3                                       0                    0   \n",
       "4                                       0                    2   \n",
       "..                                    ...                  ...   \n",
       "175                                     1                    0   \n",
       "176                                     0                    1   \n",
       "177                                     0                    0   \n",
       "178                                     1                    0   \n",
       "179                                     0                    0   \n",
       "\n",
       "     serum_cholesterol_mg_per_dl  oldpeak_eq_st_depression  sex  age  \\\n",
       "0                            308                       0.0    1   45   \n",
       "1                            214                       1.6    0   54   \n",
       "2                            304                       0.0    1   77   \n",
       "3                            223                       0.0    1   40   \n",
       "4                            270                       4.2    1   59   \n",
       "..                           ...                       ...  ...  ...   \n",
       "175                          254                       0.2    1   67   \n",
       "176                          327                       3.4    0   55   \n",
       "177                          309                       1.8    1   64   \n",
       "178                          255                       0.0    1   48   \n",
       "179                          201                       0.0    0   54   \n",
       "\n",
       "     max_heart_rate_achieved  exercise_induced_angina  \n",
       "0                        170                        0  \n",
       "1                        158                        0  \n",
       "2                        162                        1  \n",
       "3                        181                        0  \n",
       "4                        145                        0  \n",
       "..                       ...                      ...  \n",
       "175                      163                        0  \n",
       "176                      117                        1  \n",
       "177                      131                        1  \n",
       "178                      175                        0  \n",
       "179                      163                        0  \n",
       "\n",
       "[180 rows x 14 columns]"
      ]
     },
     "execution_count": 2,
     "metadata": {},
     "output_type": "execute_result"
    }
   ],
   "source": [
    "#read the dataset by using pandas function\n",
    "###The dataset provided was in the form of two separate files of independent and dependent variables\n",
    "\n",
    "df1 = pd.read_csv('values.csv')\n",
    "df2 =pd.read_csv('labels.csv')\n",
    "df1"
   ]
  },
  {
   "cell_type": "markdown",
   "metadata": {},
   "source": [
    "<H3 style=\"border:#5D5C61;border-width:7px; border-style:ridge; background-color:#3476A2;\"><br> <i> merging datasets <br></i></H3>"
   ]
  },
  {
   "cell_type": "code",
   "execution_count": 3,
   "metadata": {},
   "outputs": [
    {
     "data": {
      "text/html": [
       "<div>\n",
       "<style scoped>\n",
       "    .dataframe tbody tr th:only-of-type {\n",
       "        vertical-align: middle;\n",
       "    }\n",
       "\n",
       "    .dataframe tbody tr th {\n",
       "        vertical-align: top;\n",
       "    }\n",
       "\n",
       "    .dataframe thead th {\n",
       "        text-align: right;\n",
       "    }\n",
       "</style>\n",
       "<table border=\"1\" class=\"dataframe\">\n",
       "  <thead>\n",
       "    <tr style=\"text-align: right;\">\n",
       "      <th></th>\n",
       "      <th>patient_id</th>\n",
       "      <th>slope_of_peak_exercise_st_segment</th>\n",
       "      <th>thal</th>\n",
       "      <th>resting_blood_pressure</th>\n",
       "      <th>chest_pain_type</th>\n",
       "      <th>num_major_vessels</th>\n",
       "      <th>fasting_blood_sugar_gt_120_mg_per_dl</th>\n",
       "      <th>resting_ekg_results</th>\n",
       "      <th>serum_cholesterol_mg_per_dl</th>\n",
       "      <th>oldpeak_eq_st_depression</th>\n",
       "      <th>sex</th>\n",
       "      <th>age</th>\n",
       "      <th>max_heart_rate_achieved</th>\n",
       "      <th>exercise_induced_angina</th>\n",
       "      <th>heart_disease_present</th>\n",
       "    </tr>\n",
       "  </thead>\n",
       "  <tbody>\n",
       "    <tr>\n",
       "      <th>0</th>\n",
       "      <td>0z64un</td>\n",
       "      <td>1</td>\n",
       "      <td>normal</td>\n",
       "      <td>128</td>\n",
       "      <td>2</td>\n",
       "      <td>0</td>\n",
       "      <td>0</td>\n",
       "      <td>2</td>\n",
       "      <td>308</td>\n",
       "      <td>0.0</td>\n",
       "      <td>1</td>\n",
       "      <td>45</td>\n",
       "      <td>170</td>\n",
       "      <td>0</td>\n",
       "      <td>0</td>\n",
       "    </tr>\n",
       "    <tr>\n",
       "      <th>1</th>\n",
       "      <td>ryoo3j</td>\n",
       "      <td>2</td>\n",
       "      <td>normal</td>\n",
       "      <td>110</td>\n",
       "      <td>3</td>\n",
       "      <td>0</td>\n",
       "      <td>0</td>\n",
       "      <td>0</td>\n",
       "      <td>214</td>\n",
       "      <td>1.6</td>\n",
       "      <td>0</td>\n",
       "      <td>54</td>\n",
       "      <td>158</td>\n",
       "      <td>0</td>\n",
       "      <td>0</td>\n",
       "    </tr>\n",
       "    <tr>\n",
       "      <th>2</th>\n",
       "      <td>yt1s1x</td>\n",
       "      <td>1</td>\n",
       "      <td>normal</td>\n",
       "      <td>125</td>\n",
       "      <td>4</td>\n",
       "      <td>3</td>\n",
       "      <td>0</td>\n",
       "      <td>2</td>\n",
       "      <td>304</td>\n",
       "      <td>0.0</td>\n",
       "      <td>1</td>\n",
       "      <td>77</td>\n",
       "      <td>162</td>\n",
       "      <td>1</td>\n",
       "      <td>1</td>\n",
       "    </tr>\n",
       "    <tr>\n",
       "      <th>3</th>\n",
       "      <td>l2xjde</td>\n",
       "      <td>1</td>\n",
       "      <td>reversible_defect</td>\n",
       "      <td>152</td>\n",
       "      <td>4</td>\n",
       "      <td>0</td>\n",
       "      <td>0</td>\n",
       "      <td>0</td>\n",
       "      <td>223</td>\n",
       "      <td>0.0</td>\n",
       "      <td>1</td>\n",
       "      <td>40</td>\n",
       "      <td>181</td>\n",
       "      <td>0</td>\n",
       "      <td>1</td>\n",
       "    </tr>\n",
       "    <tr>\n",
       "      <th>4</th>\n",
       "      <td>oyt4ek</td>\n",
       "      <td>3</td>\n",
       "      <td>reversible_defect</td>\n",
       "      <td>178</td>\n",
       "      <td>1</td>\n",
       "      <td>0</td>\n",
       "      <td>0</td>\n",
       "      <td>2</td>\n",
       "      <td>270</td>\n",
       "      <td>4.2</td>\n",
       "      <td>1</td>\n",
       "      <td>59</td>\n",
       "      <td>145</td>\n",
       "      <td>0</td>\n",
       "      <td>0</td>\n",
       "    </tr>\n",
       "    <tr>\n",
       "      <th>...</th>\n",
       "      <td>...</td>\n",
       "      <td>...</td>\n",
       "      <td>...</td>\n",
       "      <td>...</td>\n",
       "      <td>...</td>\n",
       "      <td>...</td>\n",
       "      <td>...</td>\n",
       "      <td>...</td>\n",
       "      <td>...</td>\n",
       "      <td>...</td>\n",
       "      <td>...</td>\n",
       "      <td>...</td>\n",
       "      <td>...</td>\n",
       "      <td>...</td>\n",
       "      <td>...</td>\n",
       "    </tr>\n",
       "    <tr>\n",
       "      <th>175</th>\n",
       "      <td>5qfar3</td>\n",
       "      <td>2</td>\n",
       "      <td>reversible_defect</td>\n",
       "      <td>125</td>\n",
       "      <td>4</td>\n",
       "      <td>2</td>\n",
       "      <td>1</td>\n",
       "      <td>0</td>\n",
       "      <td>254</td>\n",
       "      <td>0.2</td>\n",
       "      <td>1</td>\n",
       "      <td>67</td>\n",
       "      <td>163</td>\n",
       "      <td>0</td>\n",
       "      <td>1</td>\n",
       "    </tr>\n",
       "    <tr>\n",
       "      <th>176</th>\n",
       "      <td>2s2b1f</td>\n",
       "      <td>2</td>\n",
       "      <td>normal</td>\n",
       "      <td>180</td>\n",
       "      <td>4</td>\n",
       "      <td>0</td>\n",
       "      <td>0</td>\n",
       "      <td>1</td>\n",
       "      <td>327</td>\n",
       "      <td>3.4</td>\n",
       "      <td>0</td>\n",
       "      <td>55</td>\n",
       "      <td>117</td>\n",
       "      <td>1</td>\n",
       "      <td>1</td>\n",
       "    </tr>\n",
       "    <tr>\n",
       "      <th>177</th>\n",
       "      <td>nsd00i</td>\n",
       "      <td>2</td>\n",
       "      <td>reversible_defect</td>\n",
       "      <td>125</td>\n",
       "      <td>3</td>\n",
       "      <td>0</td>\n",
       "      <td>0</td>\n",
       "      <td>0</td>\n",
       "      <td>309</td>\n",
       "      <td>1.8</td>\n",
       "      <td>1</td>\n",
       "      <td>64</td>\n",
       "      <td>131</td>\n",
       "      <td>1</td>\n",
       "      <td>1</td>\n",
       "    </tr>\n",
       "    <tr>\n",
       "      <th>178</th>\n",
       "      <td>0xw93k</td>\n",
       "      <td>1</td>\n",
       "      <td>normal</td>\n",
       "      <td>124</td>\n",
       "      <td>3</td>\n",
       "      <td>2</td>\n",
       "      <td>1</td>\n",
       "      <td>0</td>\n",
       "      <td>255</td>\n",
       "      <td>0.0</td>\n",
       "      <td>1</td>\n",
       "      <td>48</td>\n",
       "      <td>175</td>\n",
       "      <td>0</td>\n",
       "      <td>0</td>\n",
       "    </tr>\n",
       "    <tr>\n",
       "      <th>179</th>\n",
       "      <td>2nx10r</td>\n",
       "      <td>1</td>\n",
       "      <td>normal</td>\n",
       "      <td>160</td>\n",
       "      <td>3</td>\n",
       "      <td>1</td>\n",
       "      <td>0</td>\n",
       "      <td>0</td>\n",
       "      <td>201</td>\n",
       "      <td>0.0</td>\n",
       "      <td>0</td>\n",
       "      <td>54</td>\n",
       "      <td>163</td>\n",
       "      <td>0</td>\n",
       "      <td>0</td>\n",
       "    </tr>\n",
       "  </tbody>\n",
       "</table>\n",
       "<p>180 rows × 15 columns</p>\n",
       "</div>"
      ],
      "text/plain": [
       "    patient_id  slope_of_peak_exercise_st_segment               thal  \\\n",
       "0       0z64un                                  1             normal   \n",
       "1       ryoo3j                                  2             normal   \n",
       "2       yt1s1x                                  1             normal   \n",
       "3       l2xjde                                  1  reversible_defect   \n",
       "4       oyt4ek                                  3  reversible_defect   \n",
       "..         ...                                ...                ...   \n",
       "175     5qfar3                                  2  reversible_defect   \n",
       "176     2s2b1f                                  2             normal   \n",
       "177     nsd00i                                  2  reversible_defect   \n",
       "178     0xw93k                                  1             normal   \n",
       "179     2nx10r                                  1             normal   \n",
       "\n",
       "     resting_blood_pressure  chest_pain_type  num_major_vessels  \\\n",
       "0                       128                2                  0   \n",
       "1                       110                3                  0   \n",
       "2                       125                4                  3   \n",
       "3                       152                4                  0   \n",
       "4                       178                1                  0   \n",
       "..                      ...              ...                ...   \n",
       "175                     125                4                  2   \n",
       "176                     180                4                  0   \n",
       "177                     125                3                  0   \n",
       "178                     124                3                  2   \n",
       "179                     160                3                  1   \n",
       "\n",
       "     fasting_blood_sugar_gt_120_mg_per_dl  resting_ekg_results  \\\n",
       "0                                       0                    2   \n",
       "1                                       0                    0   \n",
       "2                                       0                    2   \n",
       "3                                       0                    0   \n",
       "4                                       0                    2   \n",
       "..                                    ...                  ...   \n",
       "175                                     1                    0   \n",
       "176                                     0                    1   \n",
       "177                                     0                    0   \n",
       "178                                     1                    0   \n",
       "179                                     0                    0   \n",
       "\n",
       "     serum_cholesterol_mg_per_dl  oldpeak_eq_st_depression  sex  age  \\\n",
       "0                            308                       0.0    1   45   \n",
       "1                            214                       1.6    0   54   \n",
       "2                            304                       0.0    1   77   \n",
       "3                            223                       0.0    1   40   \n",
       "4                            270                       4.2    1   59   \n",
       "..                           ...                       ...  ...  ...   \n",
       "175                          254                       0.2    1   67   \n",
       "176                          327                       3.4    0   55   \n",
       "177                          309                       1.8    1   64   \n",
       "178                          255                       0.0    1   48   \n",
       "179                          201                       0.0    0   54   \n",
       "\n",
       "     max_heart_rate_achieved  exercise_induced_angina  heart_disease_present  \n",
       "0                        170                        0                      0  \n",
       "1                        158                        0                      0  \n",
       "2                        162                        1                      1  \n",
       "3                        181                        0                      1  \n",
       "4                        145                        0                      0  \n",
       "..                       ...                      ...                    ...  \n",
       "175                      163                        0                      1  \n",
       "176                      117                        1                      1  \n",
       "177                      131                        1                      1  \n",
       "178                      175                        0                      0  \n",
       "179                      163                        0                      0  \n",
       "\n",
       "[180 rows x 15 columns]"
      ]
     },
     "execution_count": 3,
     "metadata": {},
     "output_type": "execute_result"
    }
   ],
   "source": [
    "#Here merging the two data sets in to one data set of the variable df\n",
    "df = pd.merge(df1,df2)\n",
    "df"
   ]
  },
  {
   "cell_type": "code",
   "execution_count": 4,
   "metadata": {},
   "outputs": [
    {
     "data": {
      "text/plain": [
       "patient_id                              0\n",
       "slope_of_peak_exercise_st_segment       0\n",
       "thal                                    0\n",
       "resting_blood_pressure                  0\n",
       "chest_pain_type                         0\n",
       "num_major_vessels                       0\n",
       "fasting_blood_sugar_gt_120_mg_per_dl    0\n",
       "resting_ekg_results                     0\n",
       "serum_cholesterol_mg_per_dl             0\n",
       "oldpeak_eq_st_depression                0\n",
       "sex                                     0\n",
       "age                                     0\n",
       "max_heart_rate_achieved                 0\n",
       "exercise_induced_angina                 0\n",
       "heart_disease_present                   0\n",
       "dtype: int64"
      ]
     },
     "execution_count": 4,
     "metadata": {},
     "output_type": "execute_result"
    }
   ],
   "source": [
    "#Check for null values in the dataframe\n",
    "df.isnull().sum()"
   ]
  },
  {
   "cell_type": "code",
   "execution_count": 5,
   "metadata": {},
   "outputs": [
    {
     "data": {
      "text/html": [
       "<div>\n",
       "<style scoped>\n",
       "    .dataframe tbody tr th:only-of-type {\n",
       "        vertical-align: middle;\n",
       "    }\n",
       "\n",
       "    .dataframe tbody tr th {\n",
       "        vertical-align: top;\n",
       "    }\n",
       "\n",
       "    .dataframe thead th {\n",
       "        text-align: right;\n",
       "    }\n",
       "</style>\n",
       "<table border=\"1\" class=\"dataframe\">\n",
       "  <thead>\n",
       "    <tr style=\"text-align: right;\">\n",
       "      <th></th>\n",
       "      <th>slope_of_peak_exercise_st_segment</th>\n",
       "      <th>resting_blood_pressure</th>\n",
       "      <th>chest_pain_type</th>\n",
       "      <th>num_major_vessels</th>\n",
       "      <th>fasting_blood_sugar_gt_120_mg_per_dl</th>\n",
       "      <th>resting_ekg_results</th>\n",
       "      <th>serum_cholesterol_mg_per_dl</th>\n",
       "      <th>oldpeak_eq_st_depression</th>\n",
       "      <th>sex</th>\n",
       "      <th>age</th>\n",
       "      <th>max_heart_rate_achieved</th>\n",
       "      <th>exercise_induced_angina</th>\n",
       "      <th>heart_disease_present</th>\n",
       "    </tr>\n",
       "  </thead>\n",
       "  <tbody>\n",
       "    <tr>\n",
       "      <th>count</th>\n",
       "      <td>180.000000</td>\n",
       "      <td>180.000000</td>\n",
       "      <td>180.000000</td>\n",
       "      <td>180.000000</td>\n",
       "      <td>180.000000</td>\n",
       "      <td>180.000000</td>\n",
       "      <td>180.000000</td>\n",
       "      <td>180.000000</td>\n",
       "      <td>180.000000</td>\n",
       "      <td>180.000000</td>\n",
       "      <td>180.000000</td>\n",
       "      <td>180.000000</td>\n",
       "      <td>180.000000</td>\n",
       "    </tr>\n",
       "    <tr>\n",
       "      <th>mean</th>\n",
       "      <td>1.550000</td>\n",
       "      <td>131.311111</td>\n",
       "      <td>3.155556</td>\n",
       "      <td>0.694444</td>\n",
       "      <td>0.161111</td>\n",
       "      <td>1.050000</td>\n",
       "      <td>249.211111</td>\n",
       "      <td>1.010000</td>\n",
       "      <td>0.688889</td>\n",
       "      <td>54.811111</td>\n",
       "      <td>149.483333</td>\n",
       "      <td>0.316667</td>\n",
       "      <td>0.444444</td>\n",
       "    </tr>\n",
       "    <tr>\n",
       "      <th>std</th>\n",
       "      <td>0.618838</td>\n",
       "      <td>17.010443</td>\n",
       "      <td>0.938454</td>\n",
       "      <td>0.969347</td>\n",
       "      <td>0.368659</td>\n",
       "      <td>0.998742</td>\n",
       "      <td>52.717969</td>\n",
       "      <td>1.121357</td>\n",
       "      <td>0.464239</td>\n",
       "      <td>9.334737</td>\n",
       "      <td>22.063513</td>\n",
       "      <td>0.466474</td>\n",
       "      <td>0.498290</td>\n",
       "    </tr>\n",
       "    <tr>\n",
       "      <th>min</th>\n",
       "      <td>1.000000</td>\n",
       "      <td>94.000000</td>\n",
       "      <td>1.000000</td>\n",
       "      <td>0.000000</td>\n",
       "      <td>0.000000</td>\n",
       "      <td>0.000000</td>\n",
       "      <td>126.000000</td>\n",
       "      <td>0.000000</td>\n",
       "      <td>0.000000</td>\n",
       "      <td>29.000000</td>\n",
       "      <td>96.000000</td>\n",
       "      <td>0.000000</td>\n",
       "      <td>0.000000</td>\n",
       "    </tr>\n",
       "    <tr>\n",
       "      <th>25%</th>\n",
       "      <td>1.000000</td>\n",
       "      <td>120.000000</td>\n",
       "      <td>3.000000</td>\n",
       "      <td>0.000000</td>\n",
       "      <td>0.000000</td>\n",
       "      <td>0.000000</td>\n",
       "      <td>213.750000</td>\n",
       "      <td>0.000000</td>\n",
       "      <td>0.000000</td>\n",
       "      <td>48.000000</td>\n",
       "      <td>132.000000</td>\n",
       "      <td>0.000000</td>\n",
       "      <td>0.000000</td>\n",
       "    </tr>\n",
       "    <tr>\n",
       "      <th>50%</th>\n",
       "      <td>1.000000</td>\n",
       "      <td>130.000000</td>\n",
       "      <td>3.000000</td>\n",
       "      <td>0.000000</td>\n",
       "      <td>0.000000</td>\n",
       "      <td>2.000000</td>\n",
       "      <td>245.500000</td>\n",
       "      <td>0.800000</td>\n",
       "      <td>1.000000</td>\n",
       "      <td>55.000000</td>\n",
       "      <td>152.000000</td>\n",
       "      <td>0.000000</td>\n",
       "      <td>0.000000</td>\n",
       "    </tr>\n",
       "    <tr>\n",
       "      <th>75%</th>\n",
       "      <td>2.000000</td>\n",
       "      <td>140.000000</td>\n",
       "      <td>4.000000</td>\n",
       "      <td>1.000000</td>\n",
       "      <td>0.000000</td>\n",
       "      <td>2.000000</td>\n",
       "      <td>281.250000</td>\n",
       "      <td>1.600000</td>\n",
       "      <td>1.000000</td>\n",
       "      <td>62.000000</td>\n",
       "      <td>166.250000</td>\n",
       "      <td>1.000000</td>\n",
       "      <td>1.000000</td>\n",
       "    </tr>\n",
       "    <tr>\n",
       "      <th>max</th>\n",
       "      <td>3.000000</td>\n",
       "      <td>180.000000</td>\n",
       "      <td>4.000000</td>\n",
       "      <td>3.000000</td>\n",
       "      <td>1.000000</td>\n",
       "      <td>2.000000</td>\n",
       "      <td>564.000000</td>\n",
       "      <td>6.200000</td>\n",
       "      <td>1.000000</td>\n",
       "      <td>77.000000</td>\n",
       "      <td>202.000000</td>\n",
       "      <td>1.000000</td>\n",
       "      <td>1.000000</td>\n",
       "    </tr>\n",
       "  </tbody>\n",
       "</table>\n",
       "</div>"
      ],
      "text/plain": [
       "       slope_of_peak_exercise_st_segment  resting_blood_pressure  \\\n",
       "count                         180.000000              180.000000   \n",
       "mean                            1.550000              131.311111   \n",
       "std                             0.618838               17.010443   \n",
       "min                             1.000000               94.000000   \n",
       "25%                             1.000000              120.000000   \n",
       "50%                             1.000000              130.000000   \n",
       "75%                             2.000000              140.000000   \n",
       "max                             3.000000              180.000000   \n",
       "\n",
       "       chest_pain_type  num_major_vessels  \\\n",
       "count       180.000000         180.000000   \n",
       "mean          3.155556           0.694444   \n",
       "std           0.938454           0.969347   \n",
       "min           1.000000           0.000000   \n",
       "25%           3.000000           0.000000   \n",
       "50%           3.000000           0.000000   \n",
       "75%           4.000000           1.000000   \n",
       "max           4.000000           3.000000   \n",
       "\n",
       "       fasting_blood_sugar_gt_120_mg_per_dl  resting_ekg_results  \\\n",
       "count                            180.000000           180.000000   \n",
       "mean                               0.161111             1.050000   \n",
       "std                                0.368659             0.998742   \n",
       "min                                0.000000             0.000000   \n",
       "25%                                0.000000             0.000000   \n",
       "50%                                0.000000             2.000000   \n",
       "75%                                0.000000             2.000000   \n",
       "max                                1.000000             2.000000   \n",
       "\n",
       "       serum_cholesterol_mg_per_dl  oldpeak_eq_st_depression         sex  \\\n",
       "count                   180.000000                180.000000  180.000000   \n",
       "mean                    249.211111                  1.010000    0.688889   \n",
       "std                      52.717969                  1.121357    0.464239   \n",
       "min                     126.000000                  0.000000    0.000000   \n",
       "25%                     213.750000                  0.000000    0.000000   \n",
       "50%                     245.500000                  0.800000    1.000000   \n",
       "75%                     281.250000                  1.600000    1.000000   \n",
       "max                     564.000000                  6.200000    1.000000   \n",
       "\n",
       "              age  max_heart_rate_achieved  exercise_induced_angina  \\\n",
       "count  180.000000               180.000000               180.000000   \n",
       "mean    54.811111               149.483333                 0.316667   \n",
       "std      9.334737                22.063513                 0.466474   \n",
       "min     29.000000                96.000000                 0.000000   \n",
       "25%     48.000000               132.000000                 0.000000   \n",
       "50%     55.000000               152.000000                 0.000000   \n",
       "75%     62.000000               166.250000                 1.000000   \n",
       "max     77.000000               202.000000                 1.000000   \n",
       "\n",
       "       heart_disease_present  \n",
       "count             180.000000  \n",
       "mean                0.444444  \n",
       "std                 0.498290  \n",
       "min                 0.000000  \n",
       "25%                 0.000000  \n",
       "50%                 0.000000  \n",
       "75%                 1.000000  \n",
       "max                 1.000000  "
      ]
     },
     "execution_count": 5,
     "metadata": {},
     "output_type": "execute_result"
    }
   ],
   "source": [
    "# describe the data\n",
    "df.describe()"
   ]
  },
  {
   "cell_type": "code",
   "execution_count": 6,
   "metadata": {},
   "outputs": [
    {
     "name": "stdout",
     "output_type": "stream",
     "text": [
      "<class 'pandas.core.frame.DataFrame'>\n",
      "Int64Index: 180 entries, 0 to 179\n",
      "Data columns (total 15 columns):\n",
      " #   Column                                Non-Null Count  Dtype  \n",
      "---  ------                                --------------  -----  \n",
      " 0   patient_id                            180 non-null    object \n",
      " 1   slope_of_peak_exercise_st_segment     180 non-null    int64  \n",
      " 2   thal                                  180 non-null    object \n",
      " 3   resting_blood_pressure                180 non-null    int64  \n",
      " 4   chest_pain_type                       180 non-null    int64  \n",
      " 5   num_major_vessels                     180 non-null    int64  \n",
      " 6   fasting_blood_sugar_gt_120_mg_per_dl  180 non-null    int64  \n",
      " 7   resting_ekg_results                   180 non-null    int64  \n",
      " 8   serum_cholesterol_mg_per_dl           180 non-null    int64  \n",
      " 9   oldpeak_eq_st_depression              180 non-null    float64\n",
      " 10  sex                                   180 non-null    int64  \n",
      " 11  age                                   180 non-null    int64  \n",
      " 12  max_heart_rate_achieved               180 non-null    int64  \n",
      " 13  exercise_induced_angina               180 non-null    int64  \n",
      " 14  heart_disease_present                 180 non-null    int64  \n",
      "dtypes: float64(1), int64(12), object(2)\n",
      "memory usage: 22.5+ KB\n"
     ]
    }
   ],
   "source": [
    "df.info()"
   ]
  },
  {
   "cell_type": "markdown",
   "metadata": {},
   "source": [
    "<H2 style=\"border:#5D5C61;border-width:7px; border-style:ridge; background-color:#3476A2;\"><br> <i>check dataset balanced or not <br></i></H2>"
   ]
  },
  {
   "cell_type": "code",
   "execution_count": 7,
   "metadata": {},
   "outputs": [
    {
     "data": {
      "text/plain": [
       "heart_disease_present\n",
       "0    100\n",
       "1     80\n",
       "dtype: int64"
      ]
     },
     "execution_count": 7,
     "metadata": {},
     "output_type": "execute_result"
    },
    {
     "data": {
      "image/png": "[encoded data removed]",
      "text/plain": [
       "<Figure size 432x288 with 1 Axes>"
      ]
     },
     "metadata": {
      "needs_background": "light"
     },
     "output_type": "display_data"
    }
   ],
   "source": [
    "#checking the dataset is balanced or imbalanced\n",
    "sns.countplot(df.heart_disease_present)\n",
    "df.value_counts('heart_disease_present')"
   ]
  },
  {
   "cell_type": "code",
   "execution_count": 8,
   "metadata": {},
   "outputs": [
    {
     "data": {
      "text/plain": [
       "<AxesSubplot:xlabel='sex', ylabel='heart_disease_present'>"
      ]
     },
     "execution_count": 8,
     "metadata": {},
     "output_type": "execute_result"
    },
    {
     "data": {
      "image/png": "[encoded data removed]",
      "text/plain": [
       "<Figure size 432x288 with 1 Axes>"
      ]
     },
     "metadata": {
      "needs_background": "light"
     },
     "output_type": "display_data"
    }
   ],
   "source": [
    "sns.barplot(x=df.sex,y=df.heart_disease_present,hue='sex',data=df,palette='CMRmap_r')\n",
    "#sns.swarmplot(y=df.heart_disease_present,x=df.sex,data=df)"
   ]
  },
  {
   "cell_type": "markdown",
   "metadata": {},
   "source": [
    "<H2 style=\"border:#5D5C61;border-width:7px; border-style:ridge; background-color:#3476A2;\"><br> <i>checking outliers <br></i></H2>"
   ]
  },
  {
   "cell_type": "code",
   "execution_count": 9,
   "metadata": {},
   "outputs": [
    {
     "data": {
      "image/png": "[encoded data removed]",
      "text/plain": [
       "<Figure size 1440x360 with 5 Axes>"
      ]
     },
     "metadata": {
      "needs_background": "light"
     },
     "output_type": "display_data"
    }
   ],
   "source": [
    "# reploting the boxplot to check for outliers\n",
    "fig,axes = plt.subplots(1,5,figsize=(20,5))\n",
    "fig.suptitle('Box plot for the variables')\n",
    "axes[0].set_title('Resting Blood Pressure')\n",
    "axes[1].set_title('Serum Cholesterol mg/per/dl')\n",
    "axes[2].set_title('Age of Patient')\n",
    "axes[3].set_title('Max Heart Rate Achieved')\n",
    "axes[4].set_title('OldPeak eq st depression')\n",
    "sns.boxplot(x=df.resting_blood_pressure,ax=axes[0])\n",
    "sns.boxplot(x=df.serum_cholesterol_mg_per_dl, ax= axes[1])\n",
    "sns.boxplot(x=df.age,ax= axes[2])\n",
    "sns.boxplot(x=df.max_heart_rate_achieved,ax=axes[3])\n",
    "sns.boxplot(x = df.oldpeak_eq_st_depression, ax = axes[4])\n",
    "plt.show()"
   ]
  },
  {
   "cell_type": "code",
   "execution_count": 10,
   "metadata": {},
   "outputs": [
    {
     "data": {
      "text/plain": [
       "<AxesSubplot:xlabel='serum_cholesterol_mg_per_dl', ylabel='Density'>"
      ]
     },
     "execution_count": 10,
     "metadata": {},
     "output_type": "execute_result"
    },
    {
     "data": {
      "image/png": "[encoded data removed]",
      "text/plain": [
       "<Figure size 360x360 with 1 Axes>"
      ]
     },
     "metadata": {
      "needs_background": "light"
     },
     "output_type": "display_data"
    }
   ],
   "source": [
    "plt.figure(figsize=(5,5))\n",
    "sns.distplot(df.serum_cholesterol_mg_per_dl)"
   ]
  },
  {
   "cell_type": "markdown",
   "metadata": {},
   "source": [
    "<H4 style=\"border:#5D5C61;border-width:7px; border-style:ridge; background-color:#3476A2;\"><br> <i> From the boxplots, 2 values in the ' serum_cholesterol_mg_per_dl ' seems to be the outliers, hence it is removed by setting interquantile range between 4 - 50% <br></i></H4>"
   ]
  },
  {
   "cell_type": "code",
   "execution_count": 11,
   "metadata": {},
   "outputs": [
    {
     "data": {
      "text/html": [
       "<div>\n",
       "<style scoped>\n",
       "    .dataframe tbody tr th:only-of-type {\n",
       "        vertical-align: middle;\n",
       "    }\n",
       "\n",
       "    .dataframe tbody tr th {\n",
       "        vertical-align: top;\n",
       "    }\n",
       "\n",
       "    .dataframe thead th {\n",
       "        text-align: right;\n",
       "    }\n",
       "</style>\n",
       "<table border=\"1\" class=\"dataframe\">\n",
       "  <thead>\n",
       "    <tr style=\"text-align: right;\">\n",
       "      <th></th>\n",
       "      <th>serum_cholesterol_mg_per_dl</th>\n",
       "    </tr>\n",
       "  </thead>\n",
       "  <tbody>\n",
       "    <tr>\n",
       "      <th>count</th>\n",
       "      <td>180.000000</td>\n",
       "    </tr>\n",
       "    <tr>\n",
       "      <th>mean</th>\n",
       "      <td>249.211111</td>\n",
       "    </tr>\n",
       "    <tr>\n",
       "      <th>std</th>\n",
       "      <td>52.717969</td>\n",
       "    </tr>\n",
       "    <tr>\n",
       "      <th>min</th>\n",
       "      <td>126.000000</td>\n",
       "    </tr>\n",
       "    <tr>\n",
       "      <th>4%</th>\n",
       "      <td>168.640000</td>\n",
       "    </tr>\n",
       "    <tr>\n",
       "      <th>10%</th>\n",
       "      <td>192.900000</td>\n",
       "    </tr>\n",
       "    <tr>\n",
       "      <th>25%</th>\n",
       "      <td>213.750000</td>\n",
       "    </tr>\n",
       "    <tr>\n",
       "      <th>30%</th>\n",
       "      <td>219.700000</td>\n",
       "    </tr>\n",
       "    <tr>\n",
       "      <th>40%</th>\n",
       "      <td>232.600000</td>\n",
       "    </tr>\n",
       "    <tr>\n",
       "      <th>50%</th>\n",
       "      <td>245.500000</td>\n",
       "    </tr>\n",
       "    <tr>\n",
       "      <th>75%</th>\n",
       "      <td>281.250000</td>\n",
       "    </tr>\n",
       "    <tr>\n",
       "      <th>80%</th>\n",
       "      <td>293.200000</td>\n",
       "    </tr>\n",
       "    <tr>\n",
       "      <th>90%</th>\n",
       "      <td>309.000000</td>\n",
       "    </tr>\n",
       "    <tr>\n",
       "      <th>100%</th>\n",
       "      <td>564.000000</td>\n",
       "    </tr>\n",
       "    <tr>\n",
       "      <th>max</th>\n",
       "      <td>564.000000</td>\n",
       "    </tr>\n",
       "  </tbody>\n",
       "</table>\n",
       "</div>"
      ],
      "text/plain": [
       "       serum_cholesterol_mg_per_dl\n",
       "count                   180.000000\n",
       "mean                    249.211111\n",
       "std                      52.717969\n",
       "min                     126.000000\n",
       "4%                      168.640000\n",
       "10%                     192.900000\n",
       "25%                     213.750000\n",
       "30%                     219.700000\n",
       "40%                     232.600000\n",
       "50%                     245.500000\n",
       "75%                     281.250000\n",
       "80%                     293.200000\n",
       "90%                     309.000000\n",
       "100%                    564.000000\n",
       "max                     564.000000"
      ]
     },
     "execution_count": 11,
     "metadata": {},
     "output_type": "execute_result"
    }
   ],
   "source": [
    "pd.DataFrame(df['serum_cholesterol_mg_per_dl']).describe(percentiles = (1,0.90,0.80,0.75,0.50,0.40,0.30,0.25,0.10,0.04))\n"
   ]
  },
  {
   "cell_type": "markdown",
   "metadata": {},
   "source": [
    "<H2 style=\"border:#5D5C61;border-width:7px; border-style:ridge;background-color:#3476A2;text-align: justify;\"><br> <i>Treating the outlier <br></i></H2>"
   ]
  },
  {
   "cell_type": "code",
   "execution_count": 12,
   "metadata": {},
   "outputs": [],
   "source": [
    "\n",
    "# Getting IQR of serum\n",
    "\n",
    "Q3 = df['serum_cholesterol_mg_per_dl'].quantile(q=0.75)\n",
    "Q1 = df['serum_cholesterol_mg_per_dl'].quantile(q=0.25)\n",
    "IQR = Q3-Q1\n",
    "\n",
    "# Deriving boundaries\n",
    "\n",
    "IQR_LL = int(Q1-1.5*IQR)\n",
    "IQR_UL = int(Q3+1.5*IQR)\n",
    "\n",
    "#Treating outliers\n",
    "\n",
    "df.loc[df['serum_cholesterol_mg_per_dl']>IQR_UL,'serum_cholesterol_mg_per_dl']= int(df['serum_cholesterol_mg_per_dl'].quantile(0.50))\n",
    "df.loc[df['serum_cholesterol_mg_per_dl']<IQR_LL,'serum_cholesterol_mg_per_dl']= int(df['serum_cholesterol_mg_per_dl'].quantile(0.04))\n",
    "\n"
   ]
  },
  {
   "cell_type": "code",
   "execution_count": 13,
   "metadata": {},
   "outputs": [
    {
     "data": {
      "text/plain": [
       "382"
      ]
     },
     "execution_count": 13,
     "metadata": {},
     "output_type": "execute_result"
    }
   ],
   "source": [
    "IQR_UL"
   ]
  },
  {
   "cell_type": "code",
   "execution_count": 14,
   "metadata": {},
   "outputs": [
    {
     "data": {
      "text/plain": [
       "<AxesSubplot:xlabel='serum_cholesterol_mg_per_dl'>"
      ]
     },
     "execution_count": 14,
     "metadata": {},
     "output_type": "execute_result"
    },
    {
     "data": {
      "image/png": "[encoded data removed]",
      "text/plain": [
       "<Figure size 432x288 with 1 Axes>"
      ]
     },
     "metadata": {
      "needs_background": "light"
     },
     "output_type": "display_data"
    }
   ],
   "source": [
    "sns.boxplot(x = df.serum_cholesterol_mg_per_dl)"
   ]
  },
  {
   "cell_type": "markdown",
   "metadata": {},
   "source": [
    "<H4 style=\"border:#5D5C61;border-width:7px; border-style:ridge;background-color:#3476A2;text-align: justify;\"><br> <i>Encoded the thal values using get_dummies() which is similar to OneHotEncoder. The obtained dataframe is joined to the original dataframe and also drop the initial thal values.<br></i></H4>"
   ]
  },
  {
   "cell_type": "code",
   "execution_count": 15,
   "metadata": {},
   "outputs": [
    {
     "data": {
      "text/html": [
       "<div>\n",
       "<style scoped>\n",
       "    .dataframe tbody tr th:only-of-type {\n",
       "        vertical-align: middle;\n",
       "    }\n",
       "\n",
       "    .dataframe tbody tr th {\n",
       "        vertical-align: top;\n",
       "    }\n",
       "\n",
       "    .dataframe thead th {\n",
       "        text-align: right;\n",
       "    }\n",
       "</style>\n",
       "<table border=\"1\" class=\"dataframe\">\n",
       "  <thead>\n",
       "    <tr style=\"text-align: right;\">\n",
       "      <th></th>\n",
       "      <th>thal_fixed_defect</th>\n",
       "      <th>thal_normal</th>\n",
       "      <th>thal_reversible_defect</th>\n",
       "    </tr>\n",
       "  </thead>\n",
       "  <tbody>\n",
       "    <tr>\n",
       "      <th>0</th>\n",
       "      <td>0</td>\n",
       "      <td>1</td>\n",
       "      <td>0</td>\n",
       "    </tr>\n",
       "    <tr>\n",
       "      <th>1</th>\n",
       "      <td>0</td>\n",
       "      <td>1</td>\n",
       "      <td>0</td>\n",
       "    </tr>\n",
       "    <tr>\n",
       "      <th>2</th>\n",
       "      <td>0</td>\n",
       "      <td>1</td>\n",
       "      <td>0</td>\n",
       "    </tr>\n",
       "    <tr>\n",
       "      <th>3</th>\n",
       "      <td>0</td>\n",
       "      <td>0</td>\n",
       "      <td>1</td>\n",
       "    </tr>\n",
       "    <tr>\n",
       "      <th>4</th>\n",
       "      <td>0</td>\n",
       "      <td>0</td>\n",
       "      <td>1</td>\n",
       "    </tr>\n",
       "    <tr>\n",
       "      <th>...</th>\n",
       "      <td>...</td>\n",
       "      <td>...</td>\n",
       "      <td>...</td>\n",
       "    </tr>\n",
       "    <tr>\n",
       "      <th>175</th>\n",
       "      <td>0</td>\n",
       "      <td>0</td>\n",
       "      <td>1</td>\n",
       "    </tr>\n",
       "    <tr>\n",
       "      <th>176</th>\n",
       "      <td>0</td>\n",
       "      <td>1</td>\n",
       "      <td>0</td>\n",
       "    </tr>\n",
       "    <tr>\n",
       "      <th>177</th>\n",
       "      <td>0</td>\n",
       "      <td>0</td>\n",
       "      <td>1</td>\n",
       "    </tr>\n",
       "    <tr>\n",
       "      <th>178</th>\n",
       "      <td>0</td>\n",
       "      <td>1</td>\n",
       "      <td>0</td>\n",
       "    </tr>\n",
       "    <tr>\n",
       "      <th>179</th>\n",
       "      <td>0</td>\n",
       "      <td>1</td>\n",
       "      <td>0</td>\n",
       "    </tr>\n",
       "  </tbody>\n",
       "</table>\n",
       "<p>180 rows × 3 columns</p>\n",
       "</div>"
      ],
      "text/plain": [
       "     thal_fixed_defect  thal_normal  thal_reversible_defect\n",
       "0                    0            1                       0\n",
       "1                    0            1                       0\n",
       "2                    0            1                       0\n",
       "3                    0            0                       1\n",
       "4                    0            0                       1\n",
       "..                 ...          ...                     ...\n",
       "175                  0            0                       1\n",
       "176                  0            1                       0\n",
       "177                  0            0                       1\n",
       "178                  0            1                       0\n",
       "179                  0            1                       0\n",
       "\n",
       "[180 rows x 3 columns]"
      ]
     },
     "execution_count": 15,
     "metadata": {},
     "output_type": "execute_result"
    }
   ],
   "source": [
    "dt=pd.get_dummies(df.thal,prefix='thal')\n",
    "dt"
   ]
  },
  {
   "cell_type": "code",
   "execution_count": 16,
   "metadata": {},
   "outputs": [],
   "source": [
    "df.drop('thal',axis=1,inplace=True)"
   ]
  },
  {
   "cell_type": "code",
   "execution_count": 17,
   "metadata": {},
   "outputs": [
    {
     "data": {
      "text/html": [
       "<div>\n",
       "<style scoped>\n",
       "    .dataframe tbody tr th:only-of-type {\n",
       "        vertical-align: middle;\n",
       "    }\n",
       "\n",
       "    .dataframe tbody tr th {\n",
       "        vertical-align: top;\n",
       "    }\n",
       "\n",
       "    .dataframe thead th {\n",
       "        text-align: right;\n",
       "    }\n",
       "</style>\n",
       "<table border=\"1\" class=\"dataframe\">\n",
       "  <thead>\n",
       "    <tr style=\"text-align: right;\">\n",
       "      <th></th>\n",
       "      <th>patient_id</th>\n",
       "      <th>slope_of_peak_exercise_st_segment</th>\n",
       "      <th>resting_blood_pressure</th>\n",
       "      <th>chest_pain_type</th>\n",
       "      <th>num_major_vessels</th>\n",
       "      <th>fasting_blood_sugar_gt_120_mg_per_dl</th>\n",
       "      <th>resting_ekg_results</th>\n",
       "      <th>serum_cholesterol_mg_per_dl</th>\n",
       "      <th>oldpeak_eq_st_depression</th>\n",
       "      <th>sex</th>\n",
       "      <th>age</th>\n",
       "      <th>max_heart_rate_achieved</th>\n",
       "      <th>exercise_induced_angina</th>\n",
       "      <th>heart_disease_present</th>\n",
       "      <th>thal_fixed_defect</th>\n",
       "      <th>thal_normal</th>\n",
       "      <th>thal_reversible_defect</th>\n",
       "    </tr>\n",
       "  </thead>\n",
       "  <tbody>\n",
       "    <tr>\n",
       "      <th>0</th>\n",
       "      <td>0z64un</td>\n",
       "      <td>1</td>\n",
       "      <td>128</td>\n",
       "      <td>2</td>\n",
       "      <td>0</td>\n",
       "      <td>0</td>\n",
       "      <td>2</td>\n",
       "      <td>308</td>\n",
       "      <td>0.0</td>\n",
       "      <td>1</td>\n",
       "      <td>45</td>\n",
       "      <td>170</td>\n",
       "      <td>0</td>\n",
       "      <td>0</td>\n",
       "      <td>0</td>\n",
       "      <td>1</td>\n",
       "      <td>0</td>\n",
       "    </tr>\n",
       "    <tr>\n",
       "      <th>1</th>\n",
       "      <td>ryoo3j</td>\n",
       "      <td>2</td>\n",
       "      <td>110</td>\n",
       "      <td>3</td>\n",
       "      <td>0</td>\n",
       "      <td>0</td>\n",
       "      <td>0</td>\n",
       "      <td>214</td>\n",
       "      <td>1.6</td>\n",
       "      <td>0</td>\n",
       "      <td>54</td>\n",
       "      <td>158</td>\n",
       "      <td>0</td>\n",
       "      <td>0</td>\n",
       "      <td>0</td>\n",
       "      <td>1</td>\n",
       "      <td>0</td>\n",
       "    </tr>\n",
       "    <tr>\n",
       "      <th>2</th>\n",
       "      <td>yt1s1x</td>\n",
       "      <td>1</td>\n",
       "      <td>125</td>\n",
       "      <td>4</td>\n",
       "      <td>3</td>\n",
       "      <td>0</td>\n",
       "      <td>2</td>\n",
       "      <td>304</td>\n",
       "      <td>0.0</td>\n",
       "      <td>1</td>\n",
       "      <td>77</td>\n",
       "      <td>162</td>\n",
       "      <td>1</td>\n",
       "      <td>1</td>\n",
       "      <td>0</td>\n",
       "      <td>1</td>\n",
       "      <td>0</td>\n",
       "    </tr>\n",
       "    <tr>\n",
       "      <th>3</th>\n",
       "      <td>l2xjde</td>\n",
       "      <td>1</td>\n",
       "      <td>152</td>\n",
       "      <td>4</td>\n",
       "      <td>0</td>\n",
       "      <td>0</td>\n",
       "      <td>0</td>\n",
       "      <td>223</td>\n",
       "      <td>0.0</td>\n",
       "      <td>1</td>\n",
       "      <td>40</td>\n",
       "      <td>181</td>\n",
       "      <td>0</td>\n",
       "      <td>1</td>\n",
       "      <td>0</td>\n",
       "      <td>0</td>\n",
       "      <td>1</td>\n",
       "    </tr>\n",
       "    <tr>\n",
       "      <th>4</th>\n",
       "      <td>oyt4ek</td>\n",
       "      <td>3</td>\n",
       "      <td>178</td>\n",
       "      <td>1</td>\n",
       "      <td>0</td>\n",
       "      <td>0</td>\n",
       "      <td>2</td>\n",
       "      <td>270</td>\n",
       "      <td>4.2</td>\n",
       "      <td>1</td>\n",
       "      <td>59</td>\n",
       "      <td>145</td>\n",
       "      <td>0</td>\n",
       "      <td>0</td>\n",
       "      <td>0</td>\n",
       "      <td>0</td>\n",
       "      <td>1</td>\n",
       "    </tr>\n",
       "    <tr>\n",
       "      <th>...</th>\n",
       "      <td>...</td>\n",
       "      <td>...</td>\n",
       "      <td>...</td>\n",
       "      <td>...</td>\n",
       "      <td>...</td>\n",
       "      <td>...</td>\n",
       "      <td>...</td>\n",
       "      <td>...</td>\n",
       "      <td>...</td>\n",
       "      <td>...</td>\n",
       "      <td>...</td>\n",
       "      <td>...</td>\n",
       "      <td>...</td>\n",
       "      <td>...</td>\n",
       "      <td>...</td>\n",
       "      <td>...</td>\n",
       "      <td>...</td>\n",
       "    </tr>\n",
       "    <tr>\n",
       "      <th>175</th>\n",
       "      <td>5qfar3</td>\n",
       "      <td>2</td>\n",
       "      <td>125</td>\n",
       "      <td>4</td>\n",
       "      <td>2</td>\n",
       "      <td>1</td>\n",
       "      <td>0</td>\n",
       "      <td>254</td>\n",
       "      <td>0.2</td>\n",
       "      <td>1</td>\n",
       "      <td>67</td>\n",
       "      <td>163</td>\n",
       "      <td>0</td>\n",
       "      <td>1</td>\n",
       "      <td>0</td>\n",
       "      <td>0</td>\n",
       "      <td>1</td>\n",
       "    </tr>\n",
       "    <tr>\n",
       "      <th>176</th>\n",
       "      <td>2s2b1f</td>\n",
       "      <td>2</td>\n",
       "      <td>180</td>\n",
       "      <td>4</td>\n",
       "      <td>0</td>\n",
       "      <td>0</td>\n",
       "      <td>1</td>\n",
       "      <td>327</td>\n",
       "      <td>3.4</td>\n",
       "      <td>0</td>\n",
       "      <td>55</td>\n",
       "      <td>117</td>\n",
       "      <td>1</td>\n",
       "      <td>1</td>\n",
       "      <td>0</td>\n",
       "      <td>1</td>\n",
       "      <td>0</td>\n",
       "    </tr>\n",
       "    <tr>\n",
       "      <th>177</th>\n",
       "      <td>nsd00i</td>\n",
       "      <td>2</td>\n",
       "      <td>125</td>\n",
       "      <td>3</td>\n",
       "      <td>0</td>\n",
       "      <td>0</td>\n",
       "      <td>0</td>\n",
       "      <td>309</td>\n",
       "      <td>1.8</td>\n",
       "      <td>1</td>\n",
       "      <td>64</td>\n",
       "      <td>131</td>\n",
       "      <td>1</td>\n",
       "      <td>1</td>\n",
       "      <td>0</td>\n",
       "      <td>0</td>\n",
       "      <td>1</td>\n",
       "    </tr>\n",
       "    <tr>\n",
       "      <th>178</th>\n",
       "      <td>0xw93k</td>\n",
       "      <td>1</td>\n",
       "      <td>124</td>\n",
       "      <td>3</td>\n",
       "      <td>2</td>\n",
       "      <td>1</td>\n",
       "      <td>0</td>\n",
       "      <td>255</td>\n",
       "      <td>0.0</td>\n",
       "      <td>1</td>\n",
       "      <td>48</td>\n",
       "      <td>175</td>\n",
       "      <td>0</td>\n",
       "      <td>0</td>\n",
       "      <td>0</td>\n",
       "      <td>1</td>\n",
       "      <td>0</td>\n",
       "    </tr>\n",
       "    <tr>\n",
       "      <th>179</th>\n",
       "      <td>2nx10r</td>\n",
       "      <td>1</td>\n",
       "      <td>160</td>\n",
       "      <td>3</td>\n",
       "      <td>1</td>\n",
       "      <td>0</td>\n",
       "      <td>0</td>\n",
       "      <td>201</td>\n",
       "      <td>0.0</td>\n",
       "      <td>0</td>\n",
       "      <td>54</td>\n",
       "      <td>163</td>\n",
       "      <td>0</td>\n",
       "      <td>0</td>\n",
       "      <td>0</td>\n",
       "      <td>1</td>\n",
       "      <td>0</td>\n",
       "    </tr>\n",
       "  </tbody>\n",
       "</table>\n",
       "<p>180 rows × 17 columns</p>\n",
       "</div>"
      ],
      "text/plain": [
       "    patient_id  slope_of_peak_exercise_st_segment  resting_blood_pressure  \\\n",
       "0       0z64un                                  1                     128   \n",
       "1       ryoo3j                                  2                     110   \n",
       "2       yt1s1x                                  1                     125   \n",
       "3       l2xjde                                  1                     152   \n",
       "4       oyt4ek                                  3                     178   \n",
       "..         ...                                ...                     ...   \n",
       "175     5qfar3                                  2                     125   \n",
       "176     2s2b1f                                  2                     180   \n",
       "177     nsd00i                                  2                     125   \n",
       "178     0xw93k                                  1                     124   \n",
       "179     2nx10r                                  1                     160   \n",
       "\n",
       "     chest_pain_type  num_major_vessels  fasting_blood_sugar_gt_120_mg_per_dl  \\\n",
       "0                  2                  0                                     0   \n",
       "1                  3                  0                                     0   \n",
       "2                  4                  3                                     0   \n",
       "3                  4                  0                                     0   \n",
       "4                  1                  0                                     0   \n",
       "..               ...                ...                                   ...   \n",
       "175                4                  2                                     1   \n",
       "176                4                  0                                     0   \n",
       "177                3                  0                                     0   \n",
       "178                3                  2                                     1   \n",
       "179                3                  1                                     0   \n",
       "\n",
       "     resting_ekg_results  serum_cholesterol_mg_per_dl  \\\n",
       "0                      2                          308   \n",
       "1                      0                          214   \n",
       "2                      2                          304   \n",
       "3                      0                          223   \n",
       "4                      2                          270   \n",
       "..                   ...                          ...   \n",
       "175                    0                          254   \n",
       "176                    1                          327   \n",
       "177                    0                          309   \n",
       "178                    0                          255   \n",
       "179                    0                          201   \n",
       "\n",
       "     oldpeak_eq_st_depression  sex  age  max_heart_rate_achieved  \\\n",
       "0                         0.0    1   45                      170   \n",
       "1                         1.6    0   54                      158   \n",
       "2                         0.0    1   77                      162   \n",
       "3                         0.0    1   40                      181   \n",
       "4                         4.2    1   59                      145   \n",
       "..                        ...  ...  ...                      ...   \n",
       "175                       0.2    1   67                      163   \n",
       "176                       3.4    0   55                      117   \n",
       "177                       1.8    1   64                      131   \n",
       "178                       0.0    1   48                      175   \n",
       "179                       0.0    0   54                      163   \n",
       "\n",
       "     exercise_induced_angina  heart_disease_present  thal_fixed_defect  \\\n",
       "0                          0                      0                  0   \n",
       "1                          0                      0                  0   \n",
       "2                          1                      1                  0   \n",
       "3                          0                      1                  0   \n",
       "4                          0                      0                  0   \n",
       "..                       ...                    ...                ...   \n",
       "175                        0                      1                  0   \n",
       "176                        1                      1                  0   \n",
       "177                        1                      1                  0   \n",
       "178                        0                      0                  0   \n",
       "179                        0                      0                  0   \n",
       "\n",
       "     thal_normal  thal_reversible_defect  \n",
       "0              1                       0  \n",
       "1              1                       0  \n",
       "2              1                       0  \n",
       "3              0                       1  \n",
       "4              0                       1  \n",
       "..           ...                     ...  \n",
       "175            0                       1  \n",
       "176            1                       0  \n",
       "177            0                       1  \n",
       "178            1                       0  \n",
       "179            1                       0  \n",
       "\n",
       "[180 rows x 17 columns]"
      ]
     },
     "execution_count": 17,
     "metadata": {},
     "output_type": "execute_result"
    }
   ],
   "source": [
    "df=df.join(dt)\n",
    "df"
   ]
  },
  {
   "cell_type": "markdown",
   "metadata": {},
   "source": [
    "<H2 style=\"border:#5D5C61;border-width:7px; border-style:ridge;background-color:#3476A2;text-align: justify;\"><br><i> Visualizing data <br></i></H2>"
   ]
  },
  {
   "cell_type": "code",
   "execution_count": 18,
   "metadata": {},
   "outputs": [
    {
     "data": {
      "image/png": "[encoded data removed]",
      "text/plain": [
       "<Figure size 984.625x864 with 20 Axes>"
      ]
     },
     "metadata": {
      "needs_background": "light"
     },
     "output_type": "display_data"
    }
   ],
   "source": [
    "df_pair = df[['resting_blood_pressure','serum_cholesterol_mg_per_dl','age','max_heart_rate_achieved','heart_disease_present']]\n",
    "sns.pairplot(data=df_pair, hue='heart_disease_present',size=3)\n",
    "plt.show()"
   ]
  },
  {
   "cell_type": "code",
   "execution_count": 19,
   "metadata": {},
   "outputs": [
    {
     "data": {
      "image/png": "[encoded data removed]",
      "text/plain": [
       "<Figure size 864x576 with 1 Axes>"
      ]
     },
     "metadata": {
      "needs_background": "light"
     },
     "output_type": "display_data"
    }
   ],
   "source": [
    "df.drop('heart_disease_present', axis=1).corrwith(df.heart_disease_present).plot(kind='bar', grid=True, figsize=(12, 8), \n",
    "                                                   title=\"Correlation of features with heart_disease_present\\n\")\n",
    "plt.show()"
   ]
  },
  {
   "cell_type": "code",
   "execution_count": 20,
   "metadata": {},
   "outputs": [
    {
     "data": {
      "text/plain": [
       "<AxesSubplot:>"
      ]
     },
     "execution_count": 20,
     "metadata": {},
     "output_type": "execute_result"
    },
    {
     "data": {
      "image/png": "[encoded data removed]",
      "text/plain": [
       "<Figure size 1296x648 with 2 Axes>"
      ]
     },
     "metadata": {
      "needs_background": "light"
     },
     "output_type": "display_data"
    }
   ],
   "source": [
    "#plot the heat map it shows correlation between dependent and independent variables\n",
    "plt.figure(figsize=(18,9))\n",
    "sns.heatmap(df.corr(),annot=True,cmap='RdBu')"
   ]
  },
  {
   "cell_type": "markdown",
   "metadata": {},
   "source": [
    "<H2 style=\"border:#5D5C61;border-width:7px; border-style:ridge;background-color:#3476A2;text-align: justify;\"><br> <i>Obtaining the independent and target variables. <br></i></H2>"
   ]
  },
  {
   "cell_type": "code",
   "execution_count": 21,
   "metadata": {},
   "outputs": [],
   "source": [
    "#taking independent variables into x and outcome into y\n",
    "x = df.drop(['patient_id','heart_disease_present'],axis=1)\n",
    "y = df[['heart_disease_present']]"
   ]
  },
  {
   "cell_type": "code",
   "execution_count": 22,
   "metadata": {},
   "outputs": [
    {
     "name": "stdout",
     "output_type": "stream",
     "text": [
      "Index(['slope_of_peak_exercise_st_segment', 'resting_blood_pressure',\n",
      "       'chest_pain_type', 'num_major_vessels',\n",
      "       'fasting_blood_sugar_gt_120_mg_per_dl', 'resting_ekg_results',\n",
      "       'serum_cholesterol_mg_per_dl', 'oldpeak_eq_st_depression', 'sex', 'age',\n",
      "       'max_heart_rate_achieved', 'exercise_induced_angina',\n",
      "       'thal_fixed_defect', 'thal_normal', 'thal_reversible_defect'],\n",
      "      dtype='object')\n"
     ]
    }
   ],
   "source": [
    "print(x.columns)"
   ]
  },
  {
   "cell_type": "code",
   "execution_count": 23,
   "metadata": {},
   "outputs": [],
   "source": [
    "# train test split the datas\n",
    "\n",
    "X_train, X_test, y_train, y_test = train_test_split(x, y, test_size=0.30, random_state=42,stratify= y)"
   ]
  },
  {
   "cell_type": "markdown",
   "metadata": {},
   "source": [
    "<H2 style=\"border:#5D5C61;border-width:7px; border-style:ridge;background-color:#3476A2;text-align: justify;\"><br> <i>Scale the selected features using Standard Scaler and Column Transformer <br></i></H2>"
   ]
  },
  {
   "cell_type": "code",
   "execution_count": 24,
   "metadata": {},
   "outputs": [],
   "source": [
    "from sklearn.compose import ColumnTransformer"
   ]
  },
  {
   "cell_type": "code",
   "execution_count": 25,
   "metadata": {},
   "outputs": [],
   "source": [
    "\n",
    "scale_features = ['resting_blood_pressure','serum_cholesterol_mg_per_dl','oldpeak_eq_st_depression','age','max_heart_rate_achieved']\n",
    "\n",
    "preprocessor = ColumnTransformer(\n",
    "                       transformers=[('num',StandardScaler(),scale_features),\n",
    "                                     ],\n",
    "                        remainder= 'passthrough'   # all remaining columns passthrough without transformations and are not dropped\n",
    "                                )\n",
    "# To use the ColumnTransformer, you must specify a list of transformers.Each transformer is a three-element tuple \n",
    "# that defines the name of the transformer,the transform to apply, and the column indices to apply it to. \n",
    "# For example: (Name, Object, Columns)\n",
    "\n",
    "X_train_sca = preprocessor.fit_transform(X_train)\n",
    "X_test_sca = preprocessor.transform(X_test)\n"
   ]
  },
  {
   "cell_type": "markdown",
   "metadata": {},
   "source": [
    "<H2 style=\"border:#5D5C61;border-width:7px; border-style:ridge;background-color:#3476A2;text-align: justify;\"><br><i> Applying SMOTE to balance the data set <br></i></H2>"
   ]
  },
  {
   "cell_type": "code",
   "execution_count": 26,
   "metadata": {},
   "outputs": [],
   "source": [
    "oversampling =  SMOTE(random_state=42) \n",
    "X_train_sm , y_train_sm  = oversampling.fit_resample(X_train_sca.astype(float),y_train)"
   ]
  },
  {
   "cell_type": "code",
   "execution_count": 27,
   "metadata": {},
   "outputs": [
    {
     "name": "stdout",
     "output_type": "stream",
     "text": [
      "X train : (140, 15)\n",
      "y train: (140, 1)\n",
      "X test: (54, 15)\n",
      "y test: (54, 1)\n",
      "heart_disease_present\n",
      "1                        70\n",
      "0                        70\n",
      "dtype: int64\n"
     ]
    }
   ],
   "source": [
    "# Check out the shapes of the newly oversampled training and testing datas\n",
    "print('X train :',X_train_sm.shape) \n",
    "print('y train:',y_train_sm.shape)\n",
    "print('X test:',X_test_sca.shape)\n",
    "print('y test:',y_test.shape)\n",
    "\n",
    "print(y_train_sm.value_counts())\n"
   ]
  },
  {
   "cell_type": "code",
   "execution_count": 28,
   "metadata": {},
   "outputs": [],
   "source": [
    "# New scaled and Oversampled training and testing DataFrames\n",
    "\n",
    "X1_train=pd.DataFrame(X_train_sm,columns=['resting_blood_pressure','serum_cholesterol_mg_per_dl',\n",
    "                                      'oldpeak_eq_st_depression','age','max_heart_rate_achieved',\n",
    "                                      'slope_of_peak_exercise_st_segment','chest_pain_type','num_major_vessels',\n",
    "                                      'fasting_blood_sugar_gt_120_mg_per_dl','resting_ekg_results','sex',\n",
    "                                      'exercise_induced_angina','thal_fixed_defect','thal_normal','thal_reversible_defect'])\n",
    "\n",
    "\n",
    "X1_test = pd.DataFrame(X_test_sca,columns=['resting_blood_pressure','serum_cholesterol_mg_per_dl',\n",
    "                                      'oldpeak_eq_st_depression','age','max_heart_rate_achieved',\n",
    "                                      'slope_of_peak_exercise_st_segment','chest_pain_type','num_major_vessels',\n",
    "                                      'fasting_blood_sugar_gt_120_mg_per_dl','resting_ekg_results','sex',\n",
    "                                      'exercise_induced_angina','thal_fixed_defect','thal_normal','thal_reversible_defect'])\n",
    "\n"
   ]
  },
  {
   "cell_type": "markdown",
   "metadata": {},
   "source": [
    "<H2 style=\"border:#5D5C61;border-width:7px; border-style:ridge;background-color:#3476A2;text-align: justify;\"><br><i> Feature Selection. <br></i></H2>"
   ]
  },
  {
   "cell_type": "markdown",
   "metadata": {},
   "source": [
    "<div style=\"border:black;border-width:1px; border-style:solid; background-color:#E77E02;\">\n",
    "    \n",
    "<H4 style=\"border:#5D5C61;border-width:7px; border-style:ridge;background-color:#3476A2;text-align: justify;\"><br><i> Feature Selection Using RFE (recursive feature elimination) using DecisionTreeClassifier and then using stratified k-fold cross validation to evaluate the model. <br></i></H4>\n",
    "    \n",
    "<p> &emsp;&emsp;&emsp;&emsp;&emsp;&emsp;&emsp;&emsp;&emsp;&emsp;&emsp;&emsp;&emsp;&emsp;&emsp;&emsp;&emsp;&emsp;&emsp;&emsp;&emsp;&emsp;&emsp;&emsp;&emsp;&emsp;&emsp;&emsp;&emsp;&emsp;&emsp;&emsp;&emsp;&emsp;&emsp;&emsp;&emsp;&emsp;&emsp;&emsp;&emsp;&emsp;&emsp;&emsp;&emsp;&emsp;&emsp;Checked but not selected for final stage\n",
    "</p>\n",
    "</div>"
   ]
  },
  {
   "cell_type": "code",
   "execution_count": 29,
   "metadata": {},
   "outputs": [],
   "source": [
    "# import all librarries to implement RFE\n",
    "from sklearn.model_selection import cross_val_score\n",
    "from sklearn.model_selection import RepeatedStratifiedKFold\n",
    "from sklearn.feature_selection import RFE\n",
    "from sklearn.tree import DecisionTreeClassifier\n",
    "from sklearn.pipeline import Pipeline"
   ]
  },
  {
   "cell_type": "code",
   "execution_count": 30,
   "metadata": {},
   "outputs": [
    {
     "name": "stdout",
     "output_type": "stream",
     "text": [
      ">4 0.726 (0.099)\n",
      ">5 0.738 (0.093)\n",
      ">6 0.740 (0.093)\n",
      ">7 0.738 (0.093)\n",
      ">8 0.740 (0.093)\n",
      ">9 0.745 (0.099)\n",
      ">10 0.743 (0.099)\n",
      ">11 0.743 (0.099)\n",
      ">12 0.740 (0.093)\n",
      ">13 0.748 (0.095)\n",
      ">14 0.740 (0.089)\n",
      ">15 0.750 (0.095)\n",
      ">16 0.750 (0.095)\n",
      ">17 0.750 (0.095)\n"
     ]
    },
    {
     "data": {
      "image/png": "[encoded data removed]",
      "text/plain": [
       "<Figure size 1080x1080 with 1 Axes>"
      ]
     },
     "metadata": {
      "needs_background": "light"
     },
     "output_type": "display_data"
    }
   ],
   "source": [
    "# check models with different number of features \n",
    "def get_models():\n",
    "    models = dict()\n",
    "    for i in range (4,18):\n",
    "        rfe = RFE(estimator=DecisionTreeClassifier(random_state=20, max_depth=3), n_features_to_select=i)\n",
    "        model = DecisionTreeClassifier(random_state=20, max_depth=3)\n",
    "        models[str(i)] = Pipeline(steps=[('s',rfe), ('m',model)])\n",
    "    return models\n",
    "# evaluate the generated models using cross validation\n",
    "def evaluate_model(model,X1,y1):\n",
    "    cv = RepeatedStratifiedKFold(n_splits=10,n_repeats=3,random_state=444444)\n",
    "    scores = cross_val_score(model,X1_train,y_train_sm,scoring='accuracy', cv=cv, n_jobs=-1,error_score='raise')\n",
    "    return scores\n",
    "#generate the models to be evaluated\n",
    "models = get_models()\n",
    "# store the results of the models evaluated\n",
    "results, names = list(), list()\n",
    "for name, model in models.items():\n",
    "    scores = evaluate_model(model,X1_train,y_train_sm)\n",
    "    results.append(scores)\n",
    "    names.append(name)\n",
    "    print('>%s %.3f (%.3f)' % (name, np.mean(scores), np.std(scores)))\n",
    "#plot the results for the different models\n",
    "#sns.boxplot(results,labels=names,showmeans=True)\n",
    "plt.figure(figsize=(15,15))\n",
    "plt.boxplot(results,labels=names,showmeans=True)\n",
    "plt.show()\n"
   ]
  },
  {
   "cell_type": "code",
   "execution_count": 31,
   "metadata": {},
   "outputs": [
    {
     "name": "stdout",
     "output_type": "stream",
     "text": [
      " resting_blood_pressure, Selected True, Rank: 1.000\n",
      " serum_cholesterol_mg_per_dl, Selected True, Rank: 1.000\n",
      " oldpeak_eq_st_depression, Selected True, Rank: 1.000\n",
      " age, Selected True, Rank: 1.000\n",
      " max_heart_rate_achieved, Selected True, Rank: 1.000\n",
      " slope_of_peak_exercise_st_segment, Selected True, Rank: 1.000\n",
      " chest_pain_type, Selected True, Rank: 1.000\n",
      " num_major_vessels, Selected True, Rank: 1.000\n",
      " fasting_blood_sugar_gt_120_mg_per_dl, Selected True, Rank: 1.000\n",
      " resting_ekg_results, Selected True, Rank: 1.000\n",
      " sex, Selected True, Rank: 1.000\n",
      " exercise_induced_angina, Selected True, Rank: 1.000\n",
      " thal_fixed_defect, Selected True, Rank: 1.000\n",
      " thal_normal, Selected True, Rank: 1.000\n",
      " thal_reversible_defect, Selected True, Rank: 1.000\n"
     ]
    }
   ],
   "source": [
    "#### 15 features gives the max accuracy so getting the 11 features listed\n",
    "rfe = RFE(estimator=DecisionTreeClassifier(random_state=20, max_depth=3),n_features_to_select=15)\n",
    "model = DecisionTreeClassifier(random_state=20, max_depth=3)\n",
    "# fit the model\n",
    "rfe.fit(X1_train,y_train_sm)\n",
    "#summarize the features that are selected\n",
    "for i in range(X1_train.shape[1]):\n",
    "    \n",
    "    print(' %s, Selected %s, Rank: %.3f' % ( X1_train.columns[i], rfe.support_[i], rfe.ranking_[i]))\n",
    "   "
   ]
  },
  {
   "cell_type": "markdown",
   "metadata": {},
   "source": [
    "<H2 style=\"border:#5D5C61;border-width:7px; border-style:ridge; background-color:#3476A2;\"><br><i> Feature Selection Using SelectFromModel and LogisticRegressionCV <br></i></H2>"
   ]
  },
  {
   "cell_type": "code",
   "execution_count": 32,
   "metadata": {},
   "outputs": [],
   "source": [
    "from sklearn.feature_selection import SelectFromModel\n",
    "\n",
    "from sklearn.linear_model import LogisticRegressionCV\n"
   ]
  },
  {
   "cell_type": "code",
   "execution_count": 33,
   "metadata": {},
   "outputs": [
    {
     "data": {
      "text/plain": [
       "LogisticRegressionCV()"
      ]
     },
     "execution_count": 33,
     "metadata": {},
     "output_type": "execute_result"
    }
   ],
   "source": [
    "FS = LogisticRegressionCV()\n",
    "FS.fit(X1_train,y_train_sm)"
   ]
  },
  {
   "cell_type": "code",
   "execution_count": 34,
   "metadata": {},
   "outputs": [
    {
     "data": {
      "text/html": [
       "<div>\n",
       "<style scoped>\n",
       "    .dataframe tbody tr th:only-of-type {\n",
       "        vertical-align: middle;\n",
       "    }\n",
       "\n",
       "    .dataframe tbody tr th {\n",
       "        vertical-align: top;\n",
       "    }\n",
       "\n",
       "    .dataframe thead th {\n",
       "        text-align: right;\n",
       "    }\n",
       "</style>\n",
       "<table border=\"1\" class=\"dataframe\">\n",
       "  <thead>\n",
       "    <tr style=\"text-align: right;\">\n",
       "      <th></th>\n",
       "      <th>importance</th>\n",
       "      <th>feature_names</th>\n",
       "    </tr>\n",
       "  </thead>\n",
       "  <tbody>\n",
       "    <tr>\n",
       "      <th>14</th>\n",
       "      <td>0.364943</td>\n",
       "      <td>thal_reversible_defect</td>\n",
       "    </tr>\n",
       "    <tr>\n",
       "      <th>13</th>\n",
       "      <td>0.357728</td>\n",
       "      <td>thal_normal</td>\n",
       "    </tr>\n",
       "    <tr>\n",
       "      <th>6</th>\n",
       "      <td>0.355571</td>\n",
       "      <td>chest_pain_type</td>\n",
       "    </tr>\n",
       "    <tr>\n",
       "      <th>7</th>\n",
       "      <td>0.323482</td>\n",
       "      <td>num_major_vessels</td>\n",
       "    </tr>\n",
       "    <tr>\n",
       "      <th>10</th>\n",
       "      <td>0.267592</td>\n",
       "      <td>sex</td>\n",
       "    </tr>\n",
       "    <tr>\n",
       "      <th>2</th>\n",
       "      <td>0.237118</td>\n",
       "      <td>oldpeak_eq_st_depression</td>\n",
       "    </tr>\n",
       "    <tr>\n",
       "      <th>11</th>\n",
       "      <td>0.232318</td>\n",
       "      <td>exercise_induced_angina</td>\n",
       "    </tr>\n",
       "    <tr>\n",
       "      <th>4</th>\n",
       "      <td>0.228844</td>\n",
       "      <td>max_heart_rate_achieved</td>\n",
       "    </tr>\n",
       "    <tr>\n",
       "      <th>1</th>\n",
       "      <td>0.209582</td>\n",
       "      <td>serum_cholesterol_mg_per_dl</td>\n",
       "    </tr>\n",
       "    <tr>\n",
       "      <th>9</th>\n",
       "      <td>0.172263</td>\n",
       "      <td>resting_ekg_results</td>\n",
       "    </tr>\n",
       "    <tr>\n",
       "      <th>5</th>\n",
       "      <td>0.164667</td>\n",
       "      <td>slope_of_peak_exercise_st_segment</td>\n",
       "    </tr>\n",
       "    <tr>\n",
       "      <th>0</th>\n",
       "      <td>0.067302</td>\n",
       "      <td>resting_blood_pressure</td>\n",
       "    </tr>\n",
       "    <tr>\n",
       "      <th>3</th>\n",
       "      <td>0.041116</td>\n",
       "      <td>age</td>\n",
       "    </tr>\n",
       "    <tr>\n",
       "      <th>8</th>\n",
       "      <td>0.024154</td>\n",
       "      <td>fasting_blood_sugar_gt_120_mg_per_dl</td>\n",
       "    </tr>\n",
       "    <tr>\n",
       "      <th>12</th>\n",
       "      <td>0.007094</td>\n",
       "      <td>thal_fixed_defect</td>\n",
       "    </tr>\n",
       "  </tbody>\n",
       "</table>\n",
       "</div>"
      ],
      "text/plain": [
       "    importance                         feature_names\n",
       "14    0.364943                thal_reversible_defect\n",
       "13    0.357728                           thal_normal\n",
       "6     0.355571                       chest_pain_type\n",
       "7     0.323482                     num_major_vessels\n",
       "10    0.267592                                   sex\n",
       "2     0.237118              oldpeak_eq_st_depression\n",
       "11    0.232318               exercise_induced_angina\n",
       "4     0.228844               max_heart_rate_achieved\n",
       "1     0.209582           serum_cholesterol_mg_per_dl\n",
       "9     0.172263                   resting_ekg_results\n",
       "5     0.164667     slope_of_peak_exercise_st_segment\n",
       "0     0.067302                resting_blood_pressure\n",
       "3     0.041116                                   age\n",
       "8     0.024154  fasting_blood_sugar_gt_120_mg_per_dl\n",
       "12    0.007094                     thal_fixed_defect"
      ]
     },
     "execution_count": 34,
     "metadata": {},
     "output_type": "execute_result"
    }
   ],
   "source": [
    "importance = np.abs(FS.coef_).reshape(15,)\n",
    "feature_names = np.array(X1_train.columns)\n",
    "df = pd.DataFrame({'importance': importance, 'feature_names': feature_names})\n",
    "d=df.sort_values(by='importance',ascending=False)\n",
    "d"
   ]
  },
  {
   "cell_type": "code",
   "execution_count": 35,
   "metadata": {},
   "outputs": [
    {
     "data": {
      "text/plain": [
       "<BarContainer object of 15 artists>"
      ]
     },
     "execution_count": 35,
     "metadata": {},
     "output_type": "execute_result"
    },
    {
     "data": {
      "image/png": "[encoded data removed]",
      "text/plain": [
       "<Figure size 720x360 with 1 Axes>"
      ]
     },
     "metadata": {
      "needs_background": "light"
     },
     "output_type": "display_data"
    }
   ],
   "source": [
    "plt.figure(figsize=(10,5))\n",
    "plt.barh(y=d['feature_names'],width=d['importance'])"
   ]
  },
  {
   "cell_type": "code",
   "execution_count": 36,
   "metadata": {},
   "outputs": [
    {
     "data": {
      "text/plain": [
       "array([0.00709376, 0.02415359, 0.04111559, 0.06730195, 0.16466719,\n",
       "       0.17226284, 0.209582  , 0.22884436, 0.2323183 , 0.2371184 ,\n",
       "       0.26759208, 0.32348229, 0.35557142, 0.35772798, 0.36494339])"
      ]
     },
     "execution_count": 36,
     "metadata": {},
     "output_type": "execute_result"
    }
   ],
   "source": [
    "np.sort(importance)"
   ]
  },
  {
   "cell_type": "code",
   "execution_count": 37,
   "metadata": {},
   "outputs": [
    {
     "data": {
      "text/plain": [
       "0.0773019479286434"
      ]
     },
     "execution_count": 37,
     "metadata": {},
     "output_type": "execute_result"
    }
   ],
   "source": [
    "threshold = np.sort(importance)[-12]+0.01\n",
    "sfm = SelectFromModel(FS, threshold= threshold)\n",
    "sfm.fit(X1_train,y_train_sm)\n",
    "threshold"
   ]
  },
  {
   "cell_type": "code",
   "execution_count": 38,
   "metadata": {},
   "outputs": [
    {
     "data": {
      "text/html": [
       "<div>\n",
       "<style scoped>\n",
       "    .dataframe tbody tr th:only-of-type {\n",
       "        vertical-align: middle;\n",
       "    }\n",
       "\n",
       "    .dataframe tbody tr th {\n",
       "        vertical-align: top;\n",
       "    }\n",
       "\n",
       "    .dataframe thead th {\n",
       "        text-align: right;\n",
       "    }\n",
       "</style>\n",
       "<table border=\"1\" class=\"dataframe\">\n",
       "  <thead>\n",
       "    <tr style=\"text-align: right;\">\n",
       "      <th></th>\n",
       "      <th>0</th>\n",
       "    </tr>\n",
       "  </thead>\n",
       "  <tbody>\n",
       "    <tr>\n",
       "      <th>0</th>\n",
       "      <td>serum_cholesterol_mg_per_dl</td>\n",
       "    </tr>\n",
       "    <tr>\n",
       "      <th>1</th>\n",
       "      <td>oldpeak_eq_st_depression</td>\n",
       "    </tr>\n",
       "    <tr>\n",
       "      <th>2</th>\n",
       "      <td>max_heart_rate_achieved</td>\n",
       "    </tr>\n",
       "    <tr>\n",
       "      <th>3</th>\n",
       "      <td>slope_of_peak_exercise_st_segment</td>\n",
       "    </tr>\n",
       "    <tr>\n",
       "      <th>4</th>\n",
       "      <td>chest_pain_type</td>\n",
       "    </tr>\n",
       "    <tr>\n",
       "      <th>5</th>\n",
       "      <td>num_major_vessels</td>\n",
       "    </tr>\n",
       "    <tr>\n",
       "      <th>6</th>\n",
       "      <td>resting_ekg_results</td>\n",
       "    </tr>\n",
       "    <tr>\n",
       "      <th>7</th>\n",
       "      <td>sex</td>\n",
       "    </tr>\n",
       "    <tr>\n",
       "      <th>8</th>\n",
       "      <td>exercise_induced_angina</td>\n",
       "    </tr>\n",
       "    <tr>\n",
       "      <th>9</th>\n",
       "      <td>thal_normal</td>\n",
       "    </tr>\n",
       "    <tr>\n",
       "      <th>10</th>\n",
       "      <td>thal_reversible_defect</td>\n",
       "    </tr>\n",
       "  </tbody>\n",
       "</table>\n",
       "</div>"
      ],
      "text/plain": [
       "                                    0\n",
       "0         serum_cholesterol_mg_per_dl\n",
       "1            oldpeak_eq_st_depression\n",
       "2             max_heart_rate_achieved\n",
       "3   slope_of_peak_exercise_st_segment\n",
       "4                     chest_pain_type\n",
       "5                   num_major_vessels\n",
       "6                 resting_ekg_results\n",
       "7                                 sex\n",
       "8             exercise_induced_angina\n",
       "9                         thal_normal\n",
       "10             thal_reversible_defect"
      ]
     },
     "execution_count": 38,
     "metadata": {},
     "output_type": "execute_result"
    }
   ],
   "source": [
    "pd.DataFrame(feature_names[sfm.get_support()])"
   ]
  },
  {
   "cell_type": "code",
   "execution_count": 39,
   "metadata": {},
   "outputs": [
    {
     "data": {
      "text/plain": [
       "Index(['resting_blood_pressure', 'serum_cholesterol_mg_per_dl',\n",
       "       'oldpeak_eq_st_depression', 'age', 'max_heart_rate_achieved',\n",
       "       'slope_of_peak_exercise_st_segment', 'chest_pain_type',\n",
       "       'num_major_vessels', 'fasting_blood_sugar_gt_120_mg_per_dl',\n",
       "       'resting_ekg_results', 'sex', 'exercise_induced_angina',\n",
       "       'thal_fixed_defect', 'thal_normal', 'thal_reversible_defect'],\n",
       "      dtype='object')"
      ]
     },
     "execution_count": 39,
     "metadata": {},
     "output_type": "execute_result"
    }
   ],
   "source": [
    "X1_train.columns"
   ]
  },
  {
   "cell_type": "code",
   "execution_count": 40,
   "metadata": {},
   "outputs": [],
   "source": [
    "# Drop the features which are of less importance\n",
    "\n",
    "new_x_train=X1_train.drop(labels=['resting_blood_pressure','fasting_blood_sugar_gt_120_mg_per_dl','age','thal_fixed_defect'],axis=1)\n",
    "new_x_test = X1_test.drop(labels=['resting_blood_pressure','age','thal_fixed_defect','fasting_blood_sugar_gt_120_mg_per_dl'],axis=1)"
   ]
  },
  {
   "cell_type": "code",
   "execution_count": 41,
   "metadata": {},
   "outputs": [
    {
     "data": {
      "text/plain": [
       "((140, 11), (54, 11))"
      ]
     },
     "execution_count": 41,
     "metadata": {},
     "output_type": "execute_result"
    }
   ],
   "source": [
    "new_x_train.shape , new_x_test.shape"
   ]
  },
  {
   "cell_type": "markdown",
   "metadata": {},
   "source": [
    "<H2 style=\"border:#5D5C61;border-width:7px; border-style:ridge; background-color:#3476A2;\"><br><i> Model algorithm </i></H2>"
   ]
  },
  {
   "cell_type": "code",
   "execution_count": 42,
   "metadata": {},
   "outputs": [],
   "source": [
    "from sklearn.linear_model import LogisticRegression\n",
    "from sklearn.neighbors import KNeighborsClassifier\n",
    "from sklearn.ensemble import RandomForestClassifier\n",
    "from sklearn.ensemble import GradientBoostingClassifier\n",
    "from sklearn.naive_bayes import GaussianNB\n",
    "\n"
   ]
  },
  {
   "cell_type": "markdown",
   "metadata": {},
   "source": [
    "<div style=\"border:black;border-width:1px; border-style:solid; background-color:#E77E02;\">\n",
    "    \n",
    "<H2 style=\"border:#5D5C61;border-width:7px; border-style:ridge;background-color:#3476A2;text-align: justify;\"><br><i> Logistic Regression <br></i></H2>\n",
    "    \n",
    "<p> &emsp;&emsp;&emsp;&emsp;&emsp;&emsp;&emsp;&emsp;&emsp;&emsp;&emsp;&emsp;&emsp;&emsp;&emsp;&emsp;&emsp;&emsp;&emsp;&emsp;&emsp;&emsp;&emsp;&emsp;&emsp;&emsp;&emsp;&emsp;&emsp;&emsp;&emsp;&emsp;&emsp;&emsp;&emsp;&emsp;&emsp;&emsp;&emsp;&emsp;&emsp;&emsp;&emsp;&emsp;&emsp;&emsp;&emsp;Checked but not selected for final stage\n",
    "</p>\n",
    "</div>"
   ]
  },
  {
   "cell_type": "code",
   "execution_count": 43,
   "metadata": {},
   "outputs": [
    {
     "name": "stdout",
     "output_type": "stream",
     "text": [
      "confusion matrix \n",
      "\n",
      "[[24  6]\n",
      " [ 1 23]]\n",
      "\n",
      "classification report \n",
      "\n",
      "              precision    recall  f1-score   support\n",
      "\n",
      "           0       0.96      0.80      0.87        30\n",
      "           1       0.79      0.96      0.87        24\n",
      "\n",
      "    accuracy                           0.87        54\n",
      "   macro avg       0.88      0.88      0.87        54\n",
      "weighted avg       0.89      0.87      0.87        54\n",
      "\n"
     ]
    }
   ],
   "source": [
    "# Initialize, fit  and train the model\n",
    "\n",
    "LR = LogisticRegression()\n",
    "LR.fit(new_x_train,y_train_sm)\n",
    "\n",
    "# Predict the outcome of the model\n",
    "\n",
    "y_pred_LR = LR.predict(new_x_test)\n",
    "\n",
    "# Evaluate the model\n",
    "\n",
    "print('confusion matrix \\n\\n{}\\n'.format(confusion_matrix(y_test,y_pred_LR)))\n",
    "\n",
    "acc =[\n",
    "    accuracy_score(y_test,y_pred_LR),\n",
    "    precision_score(y_test,y_pred_LR),\n",
    "    recall_score(y_test,y_pred_LR),\n",
    "    f1_score(y_test,y_pred_LR)\n",
    "    ]\n",
    "\n",
    "print('classification report \\n\\n{}'.format(classification_report(y_test,y_pred_LR)))"
   ]
  },
  {
   "cell_type": "markdown",
   "metadata": {},
   "source": [
    "<H2 style=\"border:#5D5C61;border-width:7px; border-style:ridge; background-color:#3476A2;\"><br><i>Custom function to generate metrics for different threshold values </i></H2>"
   ]
  },
  {
   "cell_type": "code",
   "execution_count": 44,
   "metadata": {},
   "outputs": [],
   "source": [
    "# Define a function to find the predicted outcome for the model with several thresholds and \n",
    "# list the evaluation matrices based on that outcome\n",
    "# The function takes model and test labels as arguments\n",
    "\n",
    "def predict_threshold (model,test_label):\n",
    "    \n",
    "    print('=='*10,model,'=='*10)\n",
    "    for thr in np.arange(0,1.1,0.1):\n",
    "        y_score=np.where(model.predict_proba(test_label)[:,1]>thr,1,0)\n",
    "        print(\" Threshold :\",thr)\n",
    "        print(confusion_matrix(y_test,y_score))\n",
    "        print(\"\\n recall score :\", recall_score(y_test, y_score))\n",
    "        print(' accuracy : {:0.2f}%'.format(accuracy_score(y_test,y_score)* 100))\n",
    "        print(\" f1 score : {:0.3f}\".format(f1_score(y_test, y_score)))\n",
    "        print(\"\\n\",\"==\"*50)\n",
    "        \n"
   ]
  },
  {
   "cell_type": "code",
   "execution_count": 45,
   "metadata": {},
   "outputs": [
    {
     "name": "stdout",
     "output_type": "stream",
     "text": [
      "==================== LogisticRegression() ====================\n",
      " Threshold : 0.0\n",
      "[[ 0 30]\n",
      " [ 0 24]]\n",
      "\n",
      " recall score : 1.0\n",
      " accuracy : 44.44%\n",
      " f1 score : 0.615\n",
      "\n",
      " ====================================================================================================\n",
      " Threshold : 0.1\n",
      "[[11 19]\n",
      " [ 0 24]]\n",
      "\n",
      " recall score : 1.0\n",
      " accuracy : 64.81%\n",
      " f1 score : 0.716\n",
      "\n",
      " ====================================================================================================\n",
      " Threshold : 0.2\n",
      "[[14 16]\n",
      " [ 0 24]]\n",
      "\n",
      " recall score : 1.0\n",
      " accuracy : 70.37%\n",
      " f1 score : 0.750\n",
      "\n",
      " ====================================================================================================\n",
      " Threshold : 0.30000000000000004\n",
      "[[18 12]\n",
      " [ 0 24]]\n",
      "\n",
      " recall score : 1.0\n",
      " accuracy : 77.78%\n",
      " f1 score : 0.800\n",
      "\n",
      " ====================================================================================================\n",
      " Threshold : 0.4\n",
      "[[20 10]\n",
      " [ 1 23]]\n",
      "\n",
      " recall score : 0.9583333333333334\n",
      " accuracy : 79.63%\n",
      " f1 score : 0.807\n",
      "\n",
      " ====================================================================================================\n",
      " Threshold : 0.5\n",
      "[[24  6]\n",
      " [ 1 23]]\n",
      "\n",
      " recall score : 0.9583333333333334\n",
      " accuracy : 87.04%\n",
      " f1 score : 0.868\n",
      "\n",
      " ====================================================================================================\n",
      " Threshold : 0.6000000000000001\n",
      "[[25  5]\n",
      " [ 3 21]]\n",
      "\n",
      " recall score : 0.875\n",
      " accuracy : 85.19%\n",
      " f1 score : 0.840\n",
      "\n",
      " ====================================================================================================\n",
      " Threshold : 0.7000000000000001\n",
      "[[27  3]\n",
      " [ 3 21]]\n",
      "\n",
      " recall score : 0.875\n",
      " accuracy : 88.89%\n",
      " f1 score : 0.875\n",
      "\n",
      " ====================================================================================================\n",
      " Threshold : 0.8\n",
      "[[28  2]\n",
      " [ 4 20]]\n",
      "\n",
      " recall score : 0.8333333333333334\n",
      " accuracy : 88.89%\n",
      " f1 score : 0.870\n",
      "\n",
      " ====================================================================================================\n",
      " Threshold : 0.9\n",
      "[[30  0]\n",
      " [ 9 15]]\n",
      "\n",
      " recall score : 0.625\n",
      " accuracy : 83.33%\n",
      " f1 score : 0.769\n",
      "\n",
      " ====================================================================================================\n",
      " Threshold : 1.0\n",
      "[[30  0]\n",
      " [24  0]]\n",
      "\n",
      " recall score : 0.0\n",
      " accuracy : 55.56%\n",
      " f1 score : 0.000\n",
      "\n",
      " ====================================================================================================\n"
     ]
    }
   ],
   "source": [
    "# Predicting the best threshold for the model\n",
    "\n",
    "predict_threshold(LR,new_x_test)\n",
    "    "
   ]
  },
  {
   "cell_type": "code",
   "execution_count": 46,
   "metadata": {},
   "outputs": [],
   "source": [
    "# predict the outcome with threshold as 0.3\n",
    "\n",
    "y_predict_th1 = np.where(LR.predict_proba(new_x_test)[:,1]>0.3,1,0) "
   ]
  },
  {
   "cell_type": "code",
   "execution_count": 47,
   "metadata": {},
   "outputs": [
    {
     "data": {
      "text/plain": [
       "(54,)"
      ]
     },
     "execution_count": 47,
     "metadata": {},
     "output_type": "execute_result"
    }
   ],
   "source": [
    "y_predict_th1.shape"
   ]
  },
  {
   "cell_type": "code",
   "execution_count": 48,
   "metadata": {},
   "outputs": [
    {
     "name": "stdout",
     "output_type": "stream",
     "text": [
      "===THRESHOLD=0.5===\n",
      "[[24  6]\n",
      " [ 1 23]]\n",
      "\n",
      "==THRESHOLD=0.3===\n",
      "[[18 12]\n",
      " [ 0 24]]\n"
     ]
    }
   ],
   "source": [
    "# Compare the confusion Matrices with the default threshold and the 0.3 threshold value\n",
    "\n",
    "print('===THRESHOLD=0.5===')\n",
    "print(confusion_matrix(y_test,y_pred_LR))\n",
    "print('\\n==THRESHOLD=0.3===')\n",
    "print(confusion_matrix(y_test,y_predict_th1))"
   ]
  },
  {
   "cell_type": "code",
   "execution_count": 49,
   "metadata": {},
   "outputs": [
    {
     "name": "stdout",
     "output_type": "stream",
     "text": [
      "MODEL WITH THRESHOLD = 0.5\n",
      " \n",
      "              precision    recall  f1-score   support\n",
      "\n",
      "           0       0.96      0.80      0.87        30\n",
      "           1       0.79      0.96      0.87        24\n",
      "\n",
      "    accuracy                           0.87        54\n",
      "   macro avg       0.88      0.88      0.87        54\n",
      "weighted avg       0.89      0.87      0.87        54\n",
      "\n",
      "\n",
      "MODEL WITH THRESHOLD = 0.3\n",
      "\n",
      "              precision    recall  f1-score   support\n",
      "\n",
      "           0       1.00      0.60      0.75        30\n",
      "           1       0.67      1.00      0.80        24\n",
      "\n",
      "    accuracy                           0.78        54\n",
      "   macro avg       0.83      0.80      0.77        54\n",
      "weighted avg       0.85      0.78      0.77        54\n",
      "\n"
     ]
    }
   ],
   "source": [
    "# Compare the Classification reports of the two models\n",
    "\n",
    "print(\"MODEL WITH THRESHOLD = 0.5\\n \")\n",
    "print(classification_report(y_test,y_pred_LR))\n",
    "print(\"\\nMODEL WITH THRESHOLD = 0.3\\n\")\n",
    "print(classification_report(y_test,y_predict_th1))\n"
   ]
  },
  {
   "cell_type": "code",
   "execution_count": 50,
   "metadata": {},
   "outputs": [],
   "source": [
    "from sklearn.metrics import roc_curve, roc_auc_score"
   ]
  },
  {
   "cell_type": "code",
   "execution_count": 51,
   "metadata": {},
   "outputs": [
    {
     "name": "stdout",
     "output_type": "stream",
     "text": [
      "0.8\n"
     ]
    }
   ],
   "source": [
    "# ROC Score\n",
    "\n",
    "roc1=roc_auc_score(y_test,y_predict_th1)\n",
    "print(roc1)"
   ]
  },
  {
   "cell_type": "code",
   "execution_count": 52,
   "metadata": {},
   "outputs": [],
   "source": [
    "y_predict_LR = LR.predict_proba(new_x_test)[:,1]\n",
    "\n",
    "#fpr, tpr, thresholds = roc_curve(y_test,LR.predict_proba(new_x_test)[:,1])"
   ]
  },
  {
   "cell_type": "code",
   "execution_count": 53,
   "metadata": {},
   "outputs": [
    {
     "data": {
      "text/plain": [
       "(54,)"
      ]
     },
     "execution_count": 53,
     "metadata": {},
     "output_type": "execute_result"
    }
   ],
   "source": [
    "y_test.shape\n",
    "y_predict_LR.shape"
   ]
  },
  {
   "cell_type": "code",
   "execution_count": 54,
   "metadata": {},
   "outputs": [
    {
     "data": {
      "image/png": "[encoded data removed]",
      "text/plain": [
       "<Figure size 432x288 with 1 Axes>"
      ]
     },
     "metadata": {
      "needs_background": "light"
     },
     "output_type": "display_data"
    }
   ],
   "source": [
    "# Plotting the ROC AUC curve\n",
    "\n",
    "%matplotlib inline\n",
    "fpr, tpr, thresholds = roc_curve(y_test,y_predict_LR)\n",
    "fpr1,tpr1,threshold =roc_curve(y_test,y_predict_th1)\n",
    "plt.title('ROC curve for Heart Disease Prediction Using Logistic Regression\\n')\n",
    "plt.xlabel('False Positive Rate (1 - Specificity)')\n",
    "plt.ylabel('True Positive Rate (Sensitivity)')\n",
    "plt.plot(fpr, tpr,color='green',lw=5)\n",
    "plt.plot(fpr1,tpr1,color='red', marker='*', linestyle='dashed',linewidth=2, markersize=12)\n",
    "plt.show()"
   ]
  },
  {
   "cell_type": "markdown",
   "metadata": {},
   "source": [
    "<H2 style=\"border:#5D5C61;border-width:7px; border-style:ridge; background-color:#3476A2;\"><br><i>  KNN </i></H2>"
   ]
  },
  {
   "cell_type": "code",
   "execution_count": 55,
   "metadata": {},
   "outputs": [
    {
     "name": "stdout",
     "output_type": "stream",
     "text": [
      "Confusion Matrix \n",
      "\n",
      "[[26  4]\n",
      " [ 1 23]]\n",
      "\n",
      "Classification Report \n",
      "\n",
      "              precision    recall  f1-score   support\n",
      "\n",
      "           0       0.96      0.87      0.91        30\n",
      "           1       0.85      0.96      0.90        24\n",
      "\n",
      "    accuracy                           0.91        54\n",
      "   macro avg       0.91      0.91      0.91        54\n",
      "weighted avg       0.91      0.91      0.91        54\n",
      "\n"
     ]
    }
   ],
   "source": [
    "# Initialise, fit and train the model\n",
    "\n",
    "KNN = KNeighborsClassifier()\n",
    "KNN.fit(new_x_train,y_train_sm)\n",
    "\n",
    "# predict the outcome\n",
    "\n",
    "y_pred_KNN = KNN.predict(new_x_test)\n",
    "\n",
    "# Evaluate the model\n",
    "\n",
    "print('Confusion Matrix \\n\\n{}\\n'.format(confusion_matrix(y_test,y_pred_KNN)))\n",
    "acc2 = [\n",
    "    accuracy_score(y_test,y_pred_KNN),\n",
    "    precision_score(y_test,y_pred_KNN),\n",
    "    recall_score(y_test,y_pred_KNN),\n",
    "    f1_score(y_test,y_pred_KNN)\n",
    "        ]\n",
    "\n",
    "\n",
    "print('Classification Report \\n\\n{}'.format(classification_report(y_test,y_pred_KNN)))"
   ]
  },
  {
   "cell_type": "markdown",
   "metadata": {},
   "source": [
    "<H4 style=\"border:#5D5C61;border-width:7px; border-style:ridge; background-color:#3476A2;\"><br><i> ROC (Receiver Operating Characteristic ) Curve and AUC (Area Under the Curve ) Score for KNN </i></H4>"
   ]
  },
  {
   "cell_type": "code",
   "execution_count": 56,
   "metadata": {},
   "outputs": [
    {
     "name": "stdout",
     "output_type": "stream",
     "text": [
      "==================== KNeighborsClassifier() ====================\n",
      " Threshold : 0.0\n",
      "[[11 19]\n",
      " [ 0 24]]\n",
      "\n",
      " recall score : 1.0\n",
      " accuracy : 64.81%\n",
      " f1 score : 0.716\n",
      "\n",
      " ====================================================================================================\n",
      " Threshold : 0.1\n",
      "[[11 19]\n",
      " [ 0 24]]\n",
      "\n",
      " recall score : 1.0\n",
      " accuracy : 64.81%\n",
      " f1 score : 0.716\n",
      "\n",
      " ====================================================================================================\n",
      " Threshold : 0.2\n",
      "[[20 10]\n",
      " [ 0 24]]\n",
      "\n",
      " recall score : 1.0\n",
      " accuracy : 81.48%\n",
      " f1 score : 0.828\n",
      "\n",
      " ====================================================================================================\n",
      " Threshold : 0.30000000000000004\n",
      "[[20 10]\n",
      " [ 0 24]]\n",
      "\n",
      " recall score : 1.0\n",
      " accuracy : 81.48%\n",
      " f1 score : 0.828\n",
      "\n",
      " ====================================================================================================\n",
      " Threshold : 0.4\n",
      "[[26  4]\n",
      " [ 1 23]]\n",
      "\n",
      " recall score : 0.9583333333333334\n",
      " accuracy : 90.74%\n",
      " f1 score : 0.902\n",
      "\n",
      " ====================================================================================================\n",
      " Threshold : 0.5\n",
      "[[26  4]\n",
      " [ 1 23]]\n",
      "\n",
      " recall score : 0.9583333333333334\n",
      " accuracy : 90.74%\n",
      " f1 score : 0.902\n",
      "\n",
      " ====================================================================================================\n",
      " Threshold : 0.6000000000000001\n",
      "[[26  4]\n",
      " [ 5 19]]\n",
      "\n",
      " recall score : 0.7916666666666666\n",
      " accuracy : 83.33%\n",
      " f1 score : 0.809\n",
      "\n",
      " ====================================================================================================\n",
      " Threshold : 0.7000000000000001\n",
      "[[26  4]\n",
      " [ 5 19]]\n",
      "\n",
      " recall score : 0.7916666666666666\n",
      " accuracy : 83.33%\n",
      " f1 score : 0.809\n",
      "\n",
      " ====================================================================================================\n",
      " Threshold : 0.8\n",
      "[[28  2]\n",
      " [10 14]]\n",
      "\n",
      " recall score : 0.5833333333333334\n",
      " accuracy : 77.78%\n",
      " f1 score : 0.700\n",
      "\n",
      " ====================================================================================================\n",
      " Threshold : 0.9\n",
      "[[28  2]\n",
      " [10 14]]\n",
      "\n",
      " recall score : 0.5833333333333334\n",
      " accuracy : 77.78%\n",
      " f1 score : 0.700\n",
      "\n",
      " ====================================================================================================\n",
      " Threshold : 1.0\n",
      "[[30  0]\n",
      " [24  0]]\n",
      "\n",
      " recall score : 0.0\n",
      " accuracy : 55.56%\n",
      " f1 score : 0.000\n",
      "\n",
      " ====================================================================================================\n"
     ]
    }
   ],
   "source": [
    "# Predicting the best threshold for KNN model\n",
    "\n",
    "predict_threshold(KNN,new_x_test)\n",
    "    "
   ]
  },
  {
   "cell_type": "code",
   "execution_count": 57,
   "metadata": {},
   "outputs": [],
   "source": [
    "# Predicting outcome with threshol = 0.3\n",
    "y_predict_th2 = np.where(KNN.predict_proba(new_x_test)[:,1]>0.3,1,0) \n"
   ]
  },
  {
   "cell_type": "code",
   "execution_count": 58,
   "metadata": {},
   "outputs": [
    {
     "name": "stdout",
     "output_type": "stream",
     "text": [
      "===THRESHOLD=0.5===\n",
      "[[26  4]\n",
      " [ 1 23]]\n",
      "\n",
      "==THRESHOLD=0.3===\n",
      "[[20 10]\n",
      " [ 0 24]]\n"
     ]
    }
   ],
   "source": [
    "# Compare the confusion Matrices with the default threshold and the 0.3 threshold value\n",
    "\n",
    "print('===THRESHOLD=0.5===')\n",
    "print(confusion_matrix(y_test,y_pred_KNN))\n",
    "print('\\n==THRESHOLD=0.3===')\n",
    "print(confusion_matrix(y_test,y_predict_th2))"
   ]
  },
  {
   "cell_type": "code",
   "execution_count": 59,
   "metadata": {},
   "outputs": [
    {
     "name": "stdout",
     "output_type": "stream",
     "text": [
      "MODEL WITH THRESHOLD = 0.5\n",
      " \n",
      "              precision    recall  f1-score   support\n",
      "\n",
      "           0       0.96      0.87      0.91        30\n",
      "           1       0.85      0.96      0.90        24\n",
      "\n",
      "    accuracy                           0.91        54\n",
      "   macro avg       0.91      0.91      0.91        54\n",
      "weighted avg       0.91      0.91      0.91        54\n",
      "\n",
      "\n",
      "MODEL WITH THRESHOLD = 0.3\n",
      "\n",
      "              precision    recall  f1-score   support\n",
      "\n",
      "           0       1.00      0.67      0.80        30\n",
      "           1       0.71      1.00      0.83        24\n",
      "\n",
      "    accuracy                           0.81        54\n",
      "   macro avg       0.85      0.83      0.81        54\n",
      "weighted avg       0.87      0.81      0.81        54\n",
      "\n"
     ]
    }
   ],
   "source": [
    "# Compare the Classification reports of the two models\n",
    "\n",
    "print(\"MODEL WITH THRESHOLD = 0.5\\n \")\n",
    "print(classification_report(y_test,y_pred_KNN))\n",
    "print(\"\\nMODEL WITH THRESHOLD = 0.3\\n\")\n",
    "print(classification_report(y_test,y_predict_th2))\n",
    "\n"
   ]
  },
  {
   "cell_type": "code",
   "execution_count": 60,
   "metadata": {},
   "outputs": [
    {
     "name": "stdout",
     "output_type": "stream",
     "text": [
      "0.8333333333333334\n"
     ]
    }
   ],
   "source": [
    "roc2 =roc_auc_score(y_test,y_predict_th2)\n",
    "print(roc2)"
   ]
  },
  {
   "cell_type": "code",
   "execution_count": 61,
   "metadata": {
    "scrolled": true
   },
   "outputs": [
    {
     "data": {
      "image/png": "[encoded data removed]",
      "text/plain": [
       "<Figure size 432x288 with 1 Axes>"
      ]
     },
     "metadata": {
      "needs_background": "light"
     },
     "output_type": "display_data"
    }
   ],
   "source": [
    "\n",
    "%matplotlib inline\n",
    "fpr, tpr, thresholds = roc_curve(y_test,KNN.predict_proba(new_x_test)[:,1])\n",
    "fpr1, tpr1, threshold = roc_curve(y_test,y_predict_th2)\n",
    "plt.title('ROC curve for Heart Disease Prediction with KNN classifier\\n')\n",
    "plt.xlabel('False Positive Rate (1 - Specificity)')\n",
    "plt.ylabel('True Positive Rate (Sensitivity)')\n",
    "plt.plot(fpr, tpr,color='green',lw=5)\n",
    "plt.plot(fpr1,tpr1,color='red', marker='*', linestyle='dashed',linewidth=2, markersize=12)\n",
    "plt.show()"
   ]
  },
  {
   "cell_type": "markdown",
   "metadata": {},
   "source": [
    "<div style=\"border:black;border-width:1px; border-style:solid; background-color:#E77E02;\">\n",
    "    \n",
    "<H2 style=\"border:#5D5C61;border-width:7px; border-style:ridge;background-color:#3476A2;text-align: justify;\"><br><i> Random Forest <br></i></H2>\n",
    "    \n",
    "<p> &emsp;&emsp;&emsp;&emsp;&emsp;&emsp;&emsp;&emsp;&emsp;&emsp;&emsp;&emsp;&emsp;&emsp;&emsp;&emsp;&emsp;&emsp;&emsp;&emsp;&emsp;&emsp;&emsp;&emsp;&emsp;&emsp;&emsp;&emsp;&emsp;&emsp;&emsp;&emsp;&emsp;&emsp;&emsp;&emsp;&emsp;&emsp;&emsp;&emsp;&emsp;&emsp;&emsp;&emsp;&emsp;&emsp;&emsp;Checked but not selected for final stage\n",
    "</p>\n",
    "</div>"
   ]
  },
  {
   "cell_type": "code",
   "execution_count": 62,
   "metadata": {},
   "outputs": [
    {
     "name": "stdout",
     "output_type": "stream",
     "text": [
      "Confusion Matrix \n",
      "\n",
      "[[24  6]\n",
      " [ 2 22]]\n",
      "\n",
      "Classification Report \n",
      "\n",
      "              precision    recall  f1-score   support\n",
      "\n",
      "           0       0.92      0.80      0.86        30\n",
      "           1       0.79      0.92      0.85        24\n",
      "\n",
      "    accuracy                           0.85        54\n",
      "   macro avg       0.85      0.86      0.85        54\n",
      "weighted avg       0.86      0.85      0.85        54\n",
      "\n"
     ]
    }
   ],
   "source": [
    "# Initialize, fit and train the model\n",
    "\n",
    "RFC = RandomForestClassifier(random_state=100)\n",
    "RFC.fit(new_x_train,y_train_sm)\n",
    "\n",
    "# Predict the outcome\n",
    "\n",
    "y_pred_RFC = RFC.predict(new_x_test)\n",
    "\n",
    "# Evaluate the model\n",
    "\n",
    "print('Confusion Matrix \\n\\n{}\\n'.format(confusion_matrix(y_test,y_pred_RFC)))\n",
    "\n",
    "acc3=[\n",
    "    accuracy_score(y_test,y_pred_RFC),\n",
    "    precision_score(y_test,y_pred_RFC),\n",
    "    recall_score(y_test,y_pred_RFC),\n",
    "    f1_score(y_test,y_pred_RFC)\n",
    "    ]\n",
    "\n",
    "print('Classification Report \\n\\n{}'.format(classification_report(y_test,y_pred_RFC)))"
   ]
  },
  {
   "cell_type": "markdown",
   "metadata": {},
   "source": [
    "<H4 style=\"border:#5D5C61;border-width:7px; border-style:ridge;background-color:#3476A2;text-align: justify;\"><br><i> ROC (Receiver Operating Characteristic ) Curve and AUC (Area Under the Curve ) Score for Random Forest <br></i></H4>"
   ]
  },
  {
   "cell_type": "code",
   "execution_count": 63,
   "metadata": {},
   "outputs": [
    {
     "name": "stdout",
     "output_type": "stream",
     "text": [
      "==================== RandomForestClassifier(random_state=100) ====================\n",
      " Threshold : 0.0\n",
      "[[ 0 30]\n",
      " [ 0 24]]\n",
      "\n",
      " recall score : 1.0\n",
      " accuracy : 44.44%\n",
      " f1 score : 0.615\n",
      "\n",
      " ====================================================================================================\n",
      " Threshold : 0.1\n",
      "[[10 20]\n",
      " [ 0 24]]\n",
      "\n",
      " recall score : 1.0\n",
      " accuracy : 62.96%\n",
      " f1 score : 0.706\n",
      "\n",
      " ====================================================================================================\n",
      " Threshold : 0.2\n",
      "[[15 15]\n",
      " [ 0 24]]\n",
      "\n",
      " recall score : 1.0\n",
      " accuracy : 72.22%\n",
      " f1 score : 0.762\n",
      "\n",
      " ====================================================================================================\n",
      " Threshold : 0.30000000000000004\n",
      "[[19 11]\n",
      " [ 0 24]]\n",
      "\n",
      " recall score : 1.0\n",
      " accuracy : 79.63%\n",
      " f1 score : 0.814\n",
      "\n",
      " ====================================================================================================\n",
      " Threshold : 0.4\n",
      "[[22  8]\n",
      " [ 1 23]]\n",
      "\n",
      " recall score : 0.9583333333333334\n",
      " accuracy : 83.33%\n",
      " f1 score : 0.836\n",
      "\n",
      " ====================================================================================================\n",
      " Threshold : 0.5\n",
      "[[24  6]\n",
      " [ 2 22]]\n",
      "\n",
      " recall score : 0.9166666666666666\n",
      " accuracy : 85.19%\n",
      " f1 score : 0.846\n",
      "\n",
      " ====================================================================================================\n",
      " Threshold : 0.6000000000000001\n",
      "[[25  5]\n",
      " [ 4 20]]\n",
      "\n",
      " recall score : 0.8333333333333334\n",
      " accuracy : 83.33%\n",
      " f1 score : 0.816\n",
      "\n",
      " ====================================================================================================\n",
      " Threshold : 0.7000000000000001\n",
      "[[26  4]\n",
      " [ 6 18]]\n",
      "\n",
      " recall score : 0.75\n",
      " accuracy : 81.48%\n",
      " f1 score : 0.783\n",
      "\n",
      " ====================================================================================================\n",
      " Threshold : 0.8\n",
      "[[28  2]\n",
      " [10 14]]\n",
      "\n",
      " recall score : 0.5833333333333334\n",
      " accuracy : 77.78%\n",
      " f1 score : 0.700\n",
      "\n",
      " ====================================================================================================\n",
      " Threshold : 0.9\n",
      "[[29  1]\n",
      " [13 11]]\n",
      "\n",
      " recall score : 0.4583333333333333\n",
      " accuracy : 74.07%\n",
      " f1 score : 0.611\n",
      "\n",
      " ====================================================================================================\n",
      " Threshold : 1.0\n",
      "[[30  0]\n",
      " [24  0]]\n",
      "\n",
      " recall score : 0.0\n",
      " accuracy : 55.56%\n",
      " f1 score : 0.000\n",
      "\n",
      " ====================================================================================================\n"
     ]
    }
   ],
   "source": [
    "# predict the best treshold for random Forest Classifier model\n",
    "\n",
    "predict_threshold(RFC,new_x_test)\n",
    "    "
   ]
  },
  {
   "cell_type": "code",
   "execution_count": 64,
   "metadata": {},
   "outputs": [],
   "source": [
    "# Predict the outcome for model with threshold = 0.3\n",
    "\n",
    "y_predict_th3 = np.where(RFC.predict_proba(new_x_test)[:,1]>0.3,1,0) \n"
   ]
  },
  {
   "cell_type": "code",
   "execution_count": 65,
   "metadata": {},
   "outputs": [
    {
     "name": "stdout",
     "output_type": "stream",
     "text": [
      "===THRESHOLD=0.5===\n",
      "[[24  6]\n",
      " [ 2 22]]\n",
      "\n",
      "\n",
      "==THRESHOLD=0.3===\n",
      "[[19 11]\n",
      " [ 0 24]]\n"
     ]
    }
   ],
   "source": [
    "# Compare the confusion matrices of models with thresholds 0.5(default) and 0.3\n",
    "\n",
    "print('===THRESHOLD=0.5===')\n",
    "print(confusion_matrix(y_test,y_pred_RFC))\n",
    "print('\\n\\n==THRESHOLD=0.3===')\n",
    "print(confusion_matrix(y_test,y_predict_th3))"
   ]
  },
  {
   "cell_type": "code",
   "execution_count": 66,
   "metadata": {},
   "outputs": [
    {
     "name": "stdout",
     "output_type": "stream",
     "text": [
      "MODEL WITH THRESHOLD = 0.5\n",
      " \n",
      "              precision    recall  f1-score   support\n",
      "\n",
      "           0       0.92      0.80      0.86        30\n",
      "           1       0.79      0.92      0.85        24\n",
      "\n",
      "    accuracy                           0.85        54\n",
      "   macro avg       0.85      0.86      0.85        54\n",
      "weighted avg       0.86      0.85      0.85        54\n",
      "\n",
      "\n",
      "MODEL WITH THRESHOLD = 0.3\n",
      "\n",
      "              precision    recall  f1-score   support\n",
      "\n",
      "           0       1.00      0.63      0.78        30\n",
      "           1       0.69      1.00      0.81        24\n",
      "\n",
      "    accuracy                           0.80        54\n",
      "   macro avg       0.84      0.82      0.79        54\n",
      "weighted avg       0.86      0.80      0.79        54\n",
      "\n"
     ]
    }
   ],
   "source": [
    "# Compare the classification reports of the two models with thresholds 0.5(default) and 0.3\n",
    "\n",
    "print(\"MODEL WITH THRESHOLD = 0.5\\n \")\n",
    "print(classification_report(y_test,y_pred_RFC))\n",
    "print(\"\\nMODEL WITH THRESHOLD = 0.3\\n\")\n",
    "print(classification_report(y_test,y_predict_th3))"
   ]
  },
  {
   "cell_type": "code",
   "execution_count": 67,
   "metadata": {},
   "outputs": [
    {
     "name": "stdout",
     "output_type": "stream",
     "text": [
      "0.8583333333333333\n"
     ]
    }
   ],
   "source": [
    "roc3 = roc_auc_score(y_test,y_pred_RFC)\n",
    "print(roc3)"
   ]
  },
  {
   "cell_type": "code",
   "execution_count": 68,
   "metadata": {},
   "outputs": [
    {
     "data": {
      "image/png": "[encoded data removed]",
      "text/plain": [
       "<Figure size 432x288 with 1 Axes>"
      ]
     },
     "metadata": {
      "needs_background": "light"
     },
     "output_type": "display_data"
    }
   ],
   "source": [
    "\n",
    "%matplotlib inline\n",
    "fpr, tpr, thresholds = roc_curve(y_test,RFC.predict_proba(new_x_test)[:,1])\n",
    "fpr1,tpr1,threshold = roc_curve(y_test,y_predict_th3)\n",
    "plt.title('ROC curve for Heart Disease Prediction with RandomForestClassifier\\n')\n",
    "plt.xlabel('False Positive Rate (1 - Specificity)')\n",
    "plt.ylabel('True Positive Rate (Sensitivity)')\n",
    "plt.plot(fpr, tpr,color='green',lw=5)\n",
    "plt.plot(fpr1,tpr1,'r*',markersize=12,linestyle='dashed',linewidth=2)\n",
    "plt.show()"
   ]
  },
  {
   "cell_type": "markdown",
   "metadata": {},
   "source": [
    "<div style=\"border:black;border-width:1px; border-style:solid; background-color:#E77E02;\">\n",
    "    \n",
    "<H2 style=\"border:#5D5C61;border-width:7px; border-style:ridge;background-color:#3476A2;text-align: justify;\"><br><i> Gradient Boosting <br></i></H2>\n",
    "    \n",
    "<p> &emsp;&emsp;&emsp;&emsp;&emsp;&emsp;&emsp;&emsp;&emsp;&emsp;&emsp;&emsp;&emsp;&emsp;&emsp;&emsp;&emsp;&emsp;&emsp;&emsp;&emsp;&emsp;&emsp;&emsp;&emsp;&emsp;&emsp;&emsp;&emsp;&emsp;&emsp;&emsp;&emsp;&emsp;&emsp;&emsp;&emsp;&emsp;&emsp;&emsp;&emsp;&emsp;&emsp;&emsp;&emsp;&emsp;&emsp;Checked but not selected for final stage\n",
    "</p>\n",
    "</div>"
   ]
  },
  {
   "cell_type": "code",
   "execution_count": 69,
   "metadata": {},
   "outputs": [
    {
     "name": "stdout",
     "output_type": "stream",
     "text": [
      "Confusion Matrix \n",
      "\n",
      "[[22  8]\n",
      " [ 0 24]]\n",
      "\n",
      "Classification Report \n",
      "\n",
      "              precision    recall  f1-score   support\n",
      "\n",
      "           0       1.00      0.73      0.85        30\n",
      "           1       0.75      1.00      0.86        24\n",
      "\n",
      "    accuracy                           0.85        54\n",
      "   macro avg       0.88      0.87      0.85        54\n",
      "weighted avg       0.89      0.85      0.85        54\n",
      "\n",
      "\n"
     ]
    }
   ],
   "source": [
    "\n",
    "GBC = GradientBoostingClassifier()\n",
    "GBC.fit(new_x_train,y_train_sm)\n",
    "\n",
    "y_pred_GBC = GBC.predict(new_x_test)\n",
    "\n",
    "print('Confusion Matrix \\n\\n{}\\n'.format(confusion_matrix(y_test,y_pred_GBC)))\n",
    "\n",
    "acc4=[\n",
    "    accuracy_score(y_test,y_pred_GBC),\n",
    "    precision_score(y_test,y_pred_GBC),\n",
    "    recall_score(y_test,y_pred_GBC),\n",
    "    f1_score(y_test,y_pred_GBC)\n",
    "    ]\n",
    "\n",
    "print('Classification Report \\n\\n{}\\n'.format(classification_report(y_test,y_pred_GBC)))"
   ]
  },
  {
   "cell_type": "code",
   "execution_count": 70,
   "metadata": {},
   "outputs": [
    {
     "name": "stdout",
     "output_type": "stream",
     "text": [
      "==================== GradientBoostingClassifier() ====================\n",
      " Threshold : 0.0\n",
      "[[ 0 30]\n",
      " [ 0 24]]\n",
      "\n",
      " recall score : 1.0\n",
      " accuracy : 44.44%\n",
      " f1 score : 0.615\n",
      "\n",
      " ====================================================================================================\n",
      " Threshold : 0.1\n",
      "[[15 15]\n",
      " [ 0 24]]\n",
      "\n",
      " recall score : 1.0\n",
      " accuracy : 72.22%\n",
      " f1 score : 0.762\n",
      "\n",
      " ====================================================================================================\n",
      " Threshold : 0.2\n",
      "[[18 12]\n",
      " [ 0 24]]\n",
      "\n",
      " recall score : 1.0\n",
      " accuracy : 77.78%\n",
      " f1 score : 0.800\n",
      "\n",
      " ====================================================================================================\n",
      " Threshold : 0.30000000000000004\n",
      "[[20 10]\n",
      " [ 0 24]]\n",
      "\n",
      " recall score : 1.0\n",
      " accuracy : 81.48%\n",
      " f1 score : 0.828\n",
      "\n",
      " ====================================================================================================\n",
      " Threshold : 0.4\n",
      "[[22  8]\n",
      " [ 0 24]]\n",
      "\n",
      " recall score : 1.0\n",
      " accuracy : 85.19%\n",
      " f1 score : 0.857\n",
      "\n",
      " ====================================================================================================\n",
      " Threshold : 0.5\n",
      "[[22  8]\n",
      " [ 0 24]]\n",
      "\n",
      " recall score : 1.0\n",
      " accuracy : 85.19%\n",
      " f1 score : 0.857\n",
      "\n",
      " ====================================================================================================\n",
      " Threshold : 0.6000000000000001\n",
      "[[23  7]\n",
      " [ 0 24]]\n",
      "\n",
      " recall score : 1.0\n",
      " accuracy : 87.04%\n",
      " f1 score : 0.873\n",
      "\n",
      " ====================================================================================================\n",
      " Threshold : 0.7000000000000001\n",
      "[[23  7]\n",
      " [ 1 23]]\n",
      "\n",
      " recall score : 0.9583333333333334\n",
      " accuracy : 85.19%\n",
      " f1 score : 0.852\n",
      "\n",
      " ====================================================================================================\n",
      " Threshold : 0.8\n",
      "[[23  7]\n",
      " [ 4 20]]\n",
      "\n",
      " recall score : 0.8333333333333334\n",
      " accuracy : 79.63%\n",
      " f1 score : 0.784\n",
      "\n",
      " ====================================================================================================\n",
      " Threshold : 0.9\n",
      "[[27  3]\n",
      " [ 7 17]]\n",
      "\n",
      " recall score : 0.7083333333333334\n",
      " accuracy : 81.48%\n",
      " f1 score : 0.773\n",
      "\n",
      " ====================================================================================================\n",
      " Threshold : 1.0\n",
      "[[30  0]\n",
      " [24  0]]\n",
      "\n",
      " recall score : 0.0\n",
      " accuracy : 55.56%\n",
      " f1 score : 0.000\n",
      "\n",
      " ====================================================================================================\n"
     ]
    }
   ],
   "source": [
    "predict_threshold(GBC,new_x_test)"
   ]
  },
  {
   "cell_type": "code",
   "execution_count": 71,
   "metadata": {},
   "outputs": [
    {
     "data": {
      "image/png": "[encoded data removed]",
      "text/plain": [
       "<Figure size 432x288 with 1 Axes>"
      ]
     },
     "metadata": {
      "needs_background": "light"
     },
     "output_type": "display_data"
    }
   ],
   "source": [
    "y_predict_th4 = np.where(GBC.predict_proba(new_x_test)[:,1]>0.1,1,0) \n",
    "\n",
    "roc4=roc_auc_score(y_test,y_predict_th4)\n",
    "\n",
    "%matplotlib inline\n",
    "fpr, tpr, thresholds = roc_curve(y_test,GBC.predict_proba(new_x_test)[:,1])\n",
    "fpr1,tpr1,threshold =roc_curve(y_test,y_predict_th4)\n",
    "plt.title('ROC curve for Heart Disease Prediction Using GBC\\n')\n",
    "plt.xlabel('False Positive Rate (1 - Specificity)')\n",
    "plt.ylabel('True Positive Rate (Sensitivity)')\n",
    "plt.plot(fpr, tpr,color='green',lw=5)\n",
    "plt.plot(fpr1,tpr1,color='red', marker='*', linestyle='dashed',linewidth=2, markersize=12)\n",
    "plt.show()"
   ]
  },
  {
   "cell_type": "markdown",
   "metadata": {},
   "source": [
    "<div style=\"border:black;border-width:1px; border-style:solid; background-color:#E77E02;\">\n",
    "    \n",
    "<H2 style=\"border:#5D5C61;border-width:7px; border-style:ridge;background-color:#3476A2;text-align: justify;\"><br><i> Naive Bayes <br></i></H2>\n",
    "    \n",
    "<p> &emsp;&emsp;&emsp;&emsp;&emsp;&emsp;&emsp;&emsp;&emsp;&emsp;&emsp;&emsp;&emsp;&emsp;&emsp;&emsp;&emsp;&emsp;&emsp;&emsp;&emsp;&emsp;&emsp;&emsp;&emsp;&emsp;&emsp;&emsp;&emsp;&emsp;&emsp;&emsp;&emsp;&emsp;&emsp;&emsp;&emsp;&emsp;&emsp;&emsp;&emsp;&emsp;&emsp;&emsp;&emsp;&emsp;&emsp;Checked but not selected for final stage\n",
    "</p>\n",
    "</div>"
   ]
  },
  {
   "cell_type": "code",
   "execution_count": 72,
   "metadata": {},
   "outputs": [
    {
     "name": "stdout",
     "output_type": "stream",
     "text": [
      "Confusion Matrix \n",
      "\n",
      "[[22  8]\n",
      " [ 1 23]]\n",
      "\n",
      "Classification Report \n",
      "\n",
      "              precision    recall  f1-score   support\n",
      "\n",
      "           0       0.96      0.73      0.83        30\n",
      "           1       0.74      0.96      0.84        24\n",
      "\n",
      "    accuracy                           0.83        54\n",
      "   macro avg       0.85      0.85      0.83        54\n",
      "weighted avg       0.86      0.83      0.83        54\n",
      "\n",
      "\n"
     ]
    }
   ],
   "source": [
    "NB = GaussianNB()\n",
    "NB.fit((new_x_train),y_train_sm)\n",
    "\n",
    "y_pred_NB = NB.predict((new_x_test))\n",
    "\n",
    "print('Confusion Matrix \\n\\n{}\\n'.format(confusion_matrix(y_test,y_pred_NB)))\n",
    "\n",
    "acc5=[\n",
    "    accuracy_score(y_test,y_pred_NB),\n",
    "    precision_score(y_test,y_pred_NB),\n",
    "    recall_score(y_test,y_pred_NB),\n",
    "    f1_score(y_test,y_pred_NB)\n",
    "    ]\n",
    "\n",
    "print('Classification Report \\n\\n{}\\n'.format(classification_report(y_test,y_pred_NB)))"
   ]
  },
  {
   "cell_type": "code",
   "execution_count": 73,
   "metadata": {},
   "outputs": [
    {
     "name": "stdout",
     "output_type": "stream",
     "text": [
      "==================== GaussianNB() ====================\n",
      " Threshold : 0.0\n",
      "[[ 0 30]\n",
      " [ 0 24]]\n",
      "\n",
      " recall score : 1.0\n",
      " accuracy : 44.44%\n",
      " f1 score : 0.615\n",
      "\n",
      " ====================================================================================================\n",
      " Threshold : 0.1\n",
      "[[20 10]\n",
      " [ 0 24]]\n",
      "\n",
      " recall score : 1.0\n",
      " accuracy : 81.48%\n",
      " f1 score : 0.828\n",
      "\n",
      " ====================================================================================================\n",
      " Threshold : 0.2\n",
      "[[20 10]\n",
      " [ 1 23]]\n",
      "\n",
      " recall score : 0.9583333333333334\n",
      " accuracy : 79.63%\n",
      " f1 score : 0.807\n",
      "\n",
      " ====================================================================================================\n",
      " Threshold : 0.30000000000000004\n",
      "[[21  9]\n",
      " [ 1 23]]\n",
      "\n",
      " recall score : 0.9583333333333334\n",
      " accuracy : 81.48%\n",
      " f1 score : 0.821\n",
      "\n",
      " ====================================================================================================\n",
      " Threshold : 0.4\n",
      "[[22  8]\n",
      " [ 1 23]]\n",
      "\n",
      " recall score : 0.9583333333333334\n",
      " accuracy : 83.33%\n",
      " f1 score : 0.836\n",
      "\n",
      " ====================================================================================================\n",
      " Threshold : 0.5\n",
      "[[22  8]\n",
      " [ 1 23]]\n",
      "\n",
      " recall score : 0.9583333333333334\n",
      " accuracy : 83.33%\n",
      " f1 score : 0.836\n",
      "\n",
      " ====================================================================================================\n",
      " Threshold : 0.6000000000000001\n",
      "[[23  7]\n",
      " [ 1 23]]\n",
      "\n",
      " recall score : 0.9583333333333334\n",
      " accuracy : 85.19%\n",
      " f1 score : 0.852\n",
      "\n",
      " ====================================================================================================\n",
      " Threshold : 0.7000000000000001\n",
      "[[24  6]\n",
      " [ 1 23]]\n",
      "\n",
      " recall score : 0.9583333333333334\n",
      " accuracy : 87.04%\n",
      " f1 score : 0.868\n",
      "\n",
      " ====================================================================================================\n",
      " Threshold : 0.8\n",
      "[[24  6]\n",
      " [ 1 23]]\n",
      "\n",
      " recall score : 0.9583333333333334\n",
      " accuracy : 87.04%\n",
      " f1 score : 0.868\n",
      "\n",
      " ====================================================================================================\n",
      " Threshold : 0.9\n",
      "[[24  6]\n",
      " [ 1 23]]\n",
      "\n",
      " recall score : 0.9583333333333334\n",
      " accuracy : 87.04%\n",
      " f1 score : 0.868\n",
      "\n",
      " ====================================================================================================\n",
      " Threshold : 1.0\n",
      "[[30  0]\n",
      " [24  0]]\n",
      "\n",
      " recall score : 0.0\n",
      " accuracy : 55.56%\n",
      " f1 score : 0.000\n",
      "\n",
      " ====================================================================================================\n"
     ]
    }
   ],
   "source": [
    "predict_threshold(NB,new_x_test)"
   ]
  },
  {
   "cell_type": "code",
   "execution_count": 74,
   "metadata": {},
   "outputs": [
    {
     "data": {
      "image/png": "[encoded data removed]",
      "text/plain": [
       "<Figure size 432x288 with 1 Axes>"
      ]
     },
     "metadata": {
      "needs_background": "light"
     },
     "output_type": "display_data"
    }
   ],
   "source": [
    "y_predict_th5 = np.where(NB.predict_proba(new_x_test)[:,1]>0.6,1,0) \n",
    "\n",
    "roc5=roc_auc_score(y_test,y_predict_th5)\n",
    "\n",
    "%matplotlib inline\n",
    "fpr, tpr, thresholds = roc_curve(y_test,NB.predict_proba(new_x_test)[:,1])\n",
    "fpr1,tpr1,threshold =roc_curve(y_test,y_predict_th5)\n",
    "plt.title('ROC curve for Heart Disease Prediction Using NB\\n')\n",
    "plt.xlabel('False Positive Rate (1 - Specificity)')\n",
    "plt.ylabel('True Positive Rate (Sensitivity)')\n",
    "plt.plot(fpr, tpr,color='green',lw=5)\n",
    "plt.plot(fpr1,tpr1,color='red', marker='*', linestyle='dashed',linewidth=2, markersize=12)\n",
    "plt.show()"
   ]
  },
  {
   "cell_type": "markdown",
   "metadata": {},
   "source": [
    "<H2 style=\"border:#5D5C61;border-width:7px; border-style:ridge;background-color:#3476A2;text-align: justify;\"><br><i>\n",
    "    summary of all the metrics along with their models <br></i></H2>"
   ]
  },
  {
   "cell_type": "code",
   "execution_count": 75,
   "metadata": {},
   "outputs": [
    {
     "data": {
      "text/html": [
       "<div>\n",
       "<style scoped>\n",
       "    .dataframe tbody tr th:only-of-type {\n",
       "        vertical-align: middle;\n",
       "    }\n",
       "\n",
       "    .dataframe tbody tr th {\n",
       "        vertical-align: top;\n",
       "    }\n",
       "\n",
       "    .dataframe thead th {\n",
       "        text-align: right;\n",
       "    }\n",
       "</style>\n",
       "<table border=\"1\" class=\"dataframe\">\n",
       "  <thead>\n",
       "    <tr style=\"text-align: right;\">\n",
       "      <th></th>\n",
       "      <th>model</th>\n",
       "      <th>accuracy</th>\n",
       "      <th>precision</th>\n",
       "      <th>recall</th>\n",
       "      <th>f1_score</th>\n",
       "      <th>ROC SCORE</th>\n",
       "    </tr>\n",
       "  </thead>\n",
       "  <tbody>\n",
       "    <tr>\n",
       "      <th>0</th>\n",
       "      <td>Logistic</td>\n",
       "      <td>87</td>\n",
       "      <td>79</td>\n",
       "      <td>95</td>\n",
       "      <td>86</td>\n",
       "      <td>0.800000</td>\n",
       "    </tr>\n",
       "    <tr>\n",
       "      <th>1</th>\n",
       "      <td>Knn</td>\n",
       "      <td>90</td>\n",
       "      <td>85</td>\n",
       "      <td>95</td>\n",
       "      <td>90</td>\n",
       "      <td>0.833333</td>\n",
       "    </tr>\n",
       "    <tr>\n",
       "      <th>2</th>\n",
       "      <td>Random</td>\n",
       "      <td>85</td>\n",
       "      <td>78</td>\n",
       "      <td>91</td>\n",
       "      <td>84</td>\n",
       "      <td>0.858333</td>\n",
       "    </tr>\n",
       "    <tr>\n",
       "      <th>3</th>\n",
       "      <td>Gradient</td>\n",
       "      <td>85</td>\n",
       "      <td>75</td>\n",
       "      <td>100</td>\n",
       "      <td>85</td>\n",
       "      <td>0.750000</td>\n",
       "    </tr>\n",
       "    <tr>\n",
       "      <th>4</th>\n",
       "      <td>NaiveB</td>\n",
       "      <td>83</td>\n",
       "      <td>74</td>\n",
       "      <td>95</td>\n",
       "      <td>83</td>\n",
       "      <td>0.862500</td>\n",
       "    </tr>\n",
       "  </tbody>\n",
       "</table>\n",
       "</div>"
      ],
      "text/plain": [
       "      model  accuracy  precision  recall  f1_score  ROC SCORE\n",
       "0  Logistic        87         79      95        86   0.800000\n",
       "1       Knn        90         85      95        90   0.833333\n",
       "2    Random        85         78      91        84   0.858333\n",
       "3  Gradient        85         75     100        85   0.750000\n",
       "4    NaiveB        83         74      95        83   0.862500"
      ]
     },
     "execution_count": 75,
     "metadata": {},
     "output_type": "execute_result"
    }
   ],
   "source": [
    "accu = {'model':['Logistic','Knn','Random','Gradient','NaiveB'],\n",
    "      'accuracy':[int(acc[0]*100),int(acc2[0]*100),int(acc3[0]*100),int(acc4[0]*100),int(acc5[0]*100)],\n",
    "      'precision':[int(acc[1]*100),int(acc2[1]*100),int(acc3[1]*100),int(acc4[1]*100),int(acc5[1]*100)],\n",
    "      'recall':[int(acc[2]*100),int(acc2[2]*100),int(acc3[2]*100),int(acc4[2]*100),int(acc5[2]*100)],\n",
    "      'f1_score':[int(acc[3]*100),int(acc2[3]*100),int(acc3[3]*100),int(acc4[3]*100),int(acc5[3]*100)],\n",
    "      'ROC SCORE':[roc1,roc2,roc3,roc4,roc5]\n",
    "      }\n",
    "pd.DataFrame(accu)"
   ]
  },
  {
   "cell_type": "markdown",
   "metadata": {},
   "source": [
    "<div style=\"border:black;border-width:1px; border-style:solid; background-color:#E77E02;\">\n",
    "    \n",
    "<H2 style=\"border:#5D5C61;border-width:7px; border-style:ridge;background-color:#3476A2;text-align: justify;\"><br><i> Testing out CV instead of train test split <br></i></H2>\n",
    "    \n",
    "<p> &emsp;&emsp;&emsp;&emsp;&emsp;&emsp;&emsp;&emsp;&emsp;&emsp;&emsp;&emsp;&emsp;&emsp;&emsp;&emsp;&emsp;&emsp;&emsp;&emsp;&emsp;&emsp;&emsp;&emsp;&emsp;&emsp;&emsp;&emsp;&emsp;&emsp;&emsp;&emsp;&emsp;&emsp;&emsp;&emsp;&emsp;&emsp;&emsp;&emsp;&emsp;&emsp;&emsp;&emsp;&emsp;&emsp;&emsp;Checked but not selected for final stage\n",
    "</p>\n",
    "</div>\n"
   ]
  },
  {
   "cell_type": "markdown",
   "metadata": {},
   "source": [
    "<div style=\"border:black;border-width:1px; border-style:solid; background-color:#E77E02;\">\n",
    "    \n",
    "<H4 style=\"border:#5D5C61;border-width:7px; border-style:ridge; background-color:#3476A2;\"><br><i> Checking CV with No scaling & No Feature Selection </i></H4>\n",
    "        \n",
    "<H4 style=\"border:#5D5C61;border-width:7px; border-style:ridge; background-color:#3476A2;\"><br><i>Random Forest and Naive Bayes </i></H4>     \n",
    "<p> &emsp;&emsp;&emsp;&emsp;&emsp;&emsp;&emsp;&emsp;&emsp;&emsp;&emsp;&emsp;&emsp;&emsp;&emsp;&emsp;&emsp;&emsp;&emsp;&emsp;&emsp;&emsp;&emsp;&emsp;&emsp;&emsp;&emsp;&emsp;&emsp;&emsp;&emsp;&emsp;&emsp;&emsp;&emsp;&emsp;&emsp;&emsp;&emsp;&emsp;&emsp;&emsp;&emsp;&emsp;&emsp;&emsp;&emsp;Checked but not selected for final stage\n",
    "</p>\n",
    "</div>     \n",
    "  \n",
    "\n"
   ]
  },
  {
   "cell_type": "code",
   "execution_count": 76,
   "metadata": {},
   "outputs": [],
   "source": [
    "from sklearn.model_selection import cross_val_score"
   ]
  },
  {
   "cell_type": "code",
   "execution_count": 77,
   "metadata": {},
   "outputs": [],
   "source": [
    "####===================== Random Forest======================#####\n",
    "\n",
    "RF = RandomForestClassifier(random_state=42)\n",
    "RF.fit(x,y)\n",
    "\n",
    "RFC_recall = cross_val_score(estimator=RF,X=x,y=y,cv= 8,scoring='recall')\n",
    "rfc=[RFC_recall.mean(), RFC_recall.std()]"
   ]
  },
  {
   "cell_type": "code",
   "execution_count": 78,
   "metadata": {},
   "outputs": [],
   "source": [
    "####-------------------- Naive Bayes---------------------#####\n",
    "\n",
    "NB = GaussianNB()\n",
    "NB.fit(x,y)\n",
    "\n",
    "NB_recall = cross_val_score(estimator=NB,X=x,y=y,cv= 10,scoring='recall')\n",
    "nb=[NB_recall.mean(), NB_recall.std()]"
   ]
  },
  {
   "cell_type": "markdown",
   "metadata": {},
   "source": [
    "<div style=\"border:black;border-width:1px; border-style:solid; background-color:#E77E02;\">\n",
    "    \n",
    "<H4 style=\"border:#5D5C61;border-width:7px; border-style:ridge; background-color:#3476A2;\"><br><i> Checking CV with Scaling </i></H4>\n",
    "        \n",
    "<H4 style=\"border:#5D5C61;border-width:7px; border-style:ridge; background-color:#3476A2;\"><br><i>Logistic Regression and KNN  </i></H4>     \n",
    "<p> &emsp;&emsp;&emsp;&emsp;&emsp;&emsp;&emsp;&emsp;&emsp;&emsp;&emsp;&emsp;&emsp;&emsp;&emsp;&emsp;&emsp;&emsp;&emsp;&emsp;&emsp;&emsp;&emsp;&emsp;&emsp;&emsp;&emsp;&emsp;&emsp;&emsp;&emsp;&emsp;&emsp;&emsp;&emsp;&emsp;&emsp;&emsp;&emsp;&emsp;&emsp;&emsp;&emsp;&emsp;&emsp;&emsp;&emsp;Checked but not selected for final stage\n",
    "</p>\n",
    "</div>     \n"
   ]
  },
  {
   "cell_type": "code",
   "execution_count": 79,
   "metadata": {},
   "outputs": [],
   "source": [
    "scale_features = ['resting_blood_pressure','serum_cholesterol_mg_per_dl','oldpeak_eq_st_depression','age','max_heart_rate_achieved']\n",
    "\n",
    "preprocessor = ColumnTransformer(\n",
    "                       transformers=[('num',StandardScaler(),scale_features)],\n",
    "                        remainder= 'passthrough'\n",
    "                                )\n",
    "\n",
    "X = preprocessor.fit_transform(x)\n",
    "\n",
    "X_new = pd.DataFrame(X,columns=['resting_blood_pressure','serum_cholesterol_mg_per_dl',\n",
    "                                      'oldpeak_eq_st_depression','age','max_heart_rate_achieved',\n",
    "                                      'slope_of_peak_exercise_st_segment','chest_pain_type','num_major_vessels',\n",
    "                                      'fasting_blood_sugar_gt_120_mg_per_dl','resting_ekg_results','sex',\n",
    "                                      'exercise_induced_angina','thal_fixed_defect','thal_normal','thal_reversible_defect'])\n",
    "\n",
    "\n",
    "\n",
    "\n"
   ]
  },
  {
   "cell_type": "code",
   "execution_count": 80,
   "metadata": {},
   "outputs": [],
   "source": [
    "#####=================================KNN=============================####\n",
    "\n",
    "KNC = KNeighborsClassifier()\n",
    "KNC.fit(X_new,y)\n",
    "\n",
    "KNC_recall = cross_val_score(estimator=KNC,X=X_new,y=y ,cv=8,scoring='recall')\n",
    "kn=[KNC_recall.mean(), KNC_recall.std()]"
   ]
  },
  {
   "cell_type": "code",
   "execution_count": 81,
   "metadata": {},
   "outputs": [],
   "source": [
    "#####==========================Logistic Regression======================####\n",
    "\n",
    "LoR = LogisticRegression()\n",
    "LoR.fit(X_new,y)\n",
    "\n",
    "LR_recall = cross_val_score(estimator=LoR,X=X_new,y=y,cv=8,scoring='recall')\n",
    "lr=[LR_recall.mean(), LR_recall.std()]"
   ]
  },
  {
   "cell_type": "code",
   "execution_count": 82,
   "metadata": {},
   "outputs": [
    {
     "data": {
      "text/html": [
       "<div>\n",
       "<style scoped>\n",
       "    .dataframe tbody tr th:only-of-type {\n",
       "        vertical-align: middle;\n",
       "    }\n",
       "\n",
       "    .dataframe tbody tr th {\n",
       "        vertical-align: top;\n",
       "    }\n",
       "\n",
       "    .dataframe thead th {\n",
       "        text-align: right;\n",
       "    }\n",
       "</style>\n",
       "<table border=\"1\" class=\"dataframe\">\n",
       "  <thead>\n",
       "    <tr style=\"text-align: right;\">\n",
       "      <th></th>\n",
       "      <th>model</th>\n",
       "      <th>Recall mean</th>\n",
       "      <th>Recall std</th>\n",
       "    </tr>\n",
       "  </thead>\n",
       "  <tbody>\n",
       "    <tr>\n",
       "      <th>0</th>\n",
       "      <td>Random</td>\n",
       "      <td>0.7875</td>\n",
       "      <td>0.126861</td>\n",
       "    </tr>\n",
       "    <tr>\n",
       "      <th>1</th>\n",
       "      <td>Naive</td>\n",
       "      <td>0.8250</td>\n",
       "      <td>0.139194</td>\n",
       "    </tr>\n",
       "    <tr>\n",
       "      <th>2</th>\n",
       "      <td>KNN</td>\n",
       "      <td>0.7500</td>\n",
       "      <td>0.070711</td>\n",
       "    </tr>\n",
       "    <tr>\n",
       "      <th>3</th>\n",
       "      <td>Logistic</td>\n",
       "      <td>0.7875</td>\n",
       "      <td>0.145237</td>\n",
       "    </tr>\n",
       "  </tbody>\n",
       "</table>\n",
       "</div>"
      ],
      "text/plain": [
       "      model  Recall mean  Recall std\n",
       "0    Random       0.7875    0.126861\n",
       "1     Naive       0.8250    0.139194\n",
       "2       KNN       0.7500    0.070711\n",
       "3  Logistic       0.7875    0.145237"
      ]
     },
     "execution_count": 82,
     "metadata": {},
     "output_type": "execute_result"
    }
   ],
   "source": [
    "####===========Summary of all the mean and standard deviations of the accuracies============######\n",
    "\n",
    "cvs = {'model':['Random','Naive','KNN','Logistic'],\n",
    "      'Recall mean':[(rfc[0]),(nb[0]),(kn[0]),(lr[0])],\n",
    "      'Recall std':[rfc[1],(nb[1]),kn[1],lr[1]]\n",
    "      }\n",
    "\n",
    "pd.DataFrame(cvs)"
   ]
  },
  {
   "cell_type": "markdown",
   "metadata": {},
   "source": [
    "<H2 style=\"border:#5D5C61;border-width:7px; border-style:ridge;background-color:#3476A2;text-align: justify;\"><br><i>\n",
    "    Hyperparameter tuning  <br></i></H2>"
   ]
  },
  {
   "cell_type": "code",
   "execution_count": 83,
   "metadata": {},
   "outputs": [],
   "source": [
    "from sklearn.model_selection import RandomizedSearchCV, GridSearchCV"
   ]
  },
  {
   "cell_type": "code",
   "execution_count": 84,
   "metadata": {},
   "outputs": [],
   "source": [
    "# Defining a function named \"evaluate\" which evaluates the recall and average error of the estimator model passed\n",
    "# The function takes the model, x and y features of the test dataset as the arguments\n",
    "# and returns the recall value\n",
    "\n",
    "def evaluate(model, test_features, test_labels):\n",
    "    predictions = model.predict(test_features)\n",
    "    errors = abs(predictions.reshape(54,1)-test_labels).astype(float)\n",
    "    recall = recall_score(test_labels,predictions)\n",
    "    mean_error = np.mean(errors)\n",
    "    print('=='*10,' Model Performance ','=='*10)\n",
    "    print('Average Error:{}'.format(mean_error))\n",
    "    print('Recall = {:0.4f}.'.format(recall))\n",
    "    \n",
    "    return recall\n",
    "\n",
    "\n"
   ]
  },
  {
   "cell_type": "code",
   "execution_count": 85,
   "metadata": {},
   "outputs": [],
   "source": [
    "# Defining a function to calculate the percentage improvement in recall from different models\n",
    "\n",
    "def improvement(base,tuned):\n",
    "    impr =  100 * ((tuned - base) / base)\n",
    "    \n",
    "    return impr\n"
   ]
  },
  {
   "cell_type": "markdown",
   "metadata": {},
   "source": [
    "<H3 style=\"border:#5D5C61;border-width:7px; border-style:ridge;background-color:#3476A2;text-align: justify;\"><br><i>\n",
    "    Hyper-parameter tuning for KNN <br></i></H3>"
   ]
  },
  {
   "cell_type": "code",
   "execution_count": 86,
   "metadata": {},
   "outputs": [],
   "source": [
    "n_neighbors = [int(i) for i in np.linspace(1,50)]\n",
    "\n",
    "leaf_size = [int(i) for i in np.linspace(10,100)]\n",
    "\n",
    "\n",
    "param_random = {\n",
    "    'n_neighbors': n_neighbors,\n",
    "    \n",
    "    'leaf_size': leaf_size,\n",
    "    \n",
    "                }\n",
    "\n"
   ]
  },
  {
   "cell_type": "code",
   "execution_count": 87,
   "metadata": {},
   "outputs": [
    {
     "name": "stdout",
     "output_type": "stream",
     "text": [
      "Fitting 5 folds for each of 100 candidates, totalling 500 fits\n"
     ]
    },
    {
     "data": {
      "text/plain": [
       "{'n_neighbors': 1, 'leaf_size': 26}"
      ]
     },
     "execution_count": 87,
     "metadata": {},
     "output_type": "execute_result"
    }
   ],
   "source": [
    "# RandomSearch Training\n",
    "\n",
    "KNN1 = KNeighborsClassifier()\n",
    "\n",
    "# Random search of parameters\n",
    "\n",
    "KN_random = RandomizedSearchCV(KNN1, param_random , n_iter=100, cv=5, verbose=2, random_state=42, n_jobs=-1,scoring='recall',return_train_score=True)\n",
    "KN_random.fit(new_x_train,y_train_sm)\n",
    "KN_random.best_params_"
   ]
  },
  {
   "cell_type": "code",
   "execution_count": 88,
   "metadata": {},
   "outputs": [
    {
     "name": "stdout",
     "output_type": "stream",
     "text": [
      "====================  Model Performance  ====================\n",
      "Average Error:heart_disease_present    0.092593\n",
      "dtype: float64\n",
      "Recall = 0.9583.\n",
      "1.0\n"
     ]
    }
   ],
   "source": [
    "# Initialising and fitting the base model\n",
    "\n",
    "base_model = KNeighborsClassifier()\n",
    "base_model.fit(new_x_train, y_train_sm)\n",
    "\n",
    "base_recall = evaluate(base_model,new_x_test, y_test)\n",
    "\n",
    "print(recall_score(y_test,y_predict_th2))\n"
   ]
  },
  {
   "cell_type": "code",
   "execution_count": 89,
   "metadata": {},
   "outputs": [
    {
     "name": "stdout",
     "output_type": "stream",
     "text": [
      "====================  Model Performance  ====================\n",
      "Average Error:heart_disease_present    0.222222\n",
      "dtype: float64\n",
      "Recall = 0.7917.\n",
      "Improvement of -17.39% in recall using Randomized Search for KNN from base model.\n"
     ]
    }
   ],
   "source": [
    "# Evaluate the best found estimator\n",
    "\n",
    "best_random = KN_random.best_estimator_\n",
    "random_recall = evaluate(best_random, new_x_test, y_test)\n",
    "\n",
    "print('Improvement of {:0.2f}% in recall using Randomized Search for KNN from base model.'.format( improvement(base_recall,random_recall)))\n",
    "\n",
    "\n"
   ]
  },
  {
   "cell_type": "code",
   "execution_count": 90,
   "metadata": {},
   "outputs": [
    {
     "name": "stdout",
     "output_type": "stream",
     "text": [
      "Fitting 5 folds for each of 15 candidates, totalling 75 fits\n"
     ]
    },
    {
     "data": {
      "text/plain": [
       "GridSearchCV(cv=5, estimator=KNeighborsClassifier(), n_jobs=-1,\n",
       "             param_grid={'leaf_size': [20, 29, 30, 31, 32],\n",
       "                         'n_neighbors': [2, 3, 5]},\n",
       "             return_train_score=True, scoring='recall', verbose=2)"
      ]
     },
     "execution_count": 90,
     "metadata": {},
     "output_type": "execute_result"
    }
   ],
   "source": [
    "# Create the parameter grid based on the results of random search \n",
    "\n",
    "param_grids = {\n",
    "    'n_neighbors':[2,3,5],\n",
    "    'leaf_size': [20,29,30,31,32]\n",
    "}\n",
    "\n",
    "\n",
    "\n",
    "# Create a based model\n",
    "KN2 = KNeighborsClassifier()\n",
    "\n",
    "# Instantiate the grid search model\n",
    "grid_search = GridSearchCV(estimator = KN2, param_grid = param_grids,cv = 5, n_jobs = -1, verbose = 2,scoring= 'recall',return_train_score=True)\n",
    "\n",
    "# Fit the grid search to the data\n",
    "grid_search.fit(new_x_train, y_train_sm)\n",
    "\n",
    "\n"
   ]
  },
  {
   "cell_type": "code",
   "execution_count": 91,
   "metadata": {},
   "outputs": [
    {
     "data": {
      "text/plain": [
       "{'leaf_size': 20, 'n_neighbors': 5}"
      ]
     },
     "execution_count": 91,
     "metadata": {},
     "output_type": "execute_result"
    }
   ],
   "source": [
    "grid_search.best_params_"
   ]
  },
  {
   "cell_type": "code",
   "execution_count": 92,
   "metadata": {},
   "outputs": [
    {
     "name": "stdout",
     "output_type": "stream",
     "text": [
      "====================  Model Performance  ====================\n",
      "Average Error:heart_disease_present    0.092593\n",
      "dtype: float64\n",
      "Recall = 0.9583.\n",
      "Improvement of 0.00% in recall using Grid search CV for KNN from base model.\n",
      "Improvement of 21.05% in recall from Randomized to Grid search CV for KNN.\n"
     ]
    }
   ],
   "source": [
    "best_grid = grid_search.best_estimator_\n",
    "grid_recall = evaluate(best_grid, new_x_test, y_test)\n",
    "\n",
    "print('Improvement of {:0.2f}% in recall using Grid search CV for KNN from base model.'.format( improvement(base_recall,grid_recall)))\n",
    "\n",
    "print('Improvement of {:0.2f}% in recall from Randomized to Grid search CV for KNN.'.format( improvement(random_recall,grid_recall)))\n",
    "\n"
   ]
  },
  {
   "cell_type": "markdown",
   "metadata": {},
   "source": [
    "<H2 style=\"border:#5D5C61;border-width:7px; border-style:ridge; background-color:#3476A2;\"> <br><i>\n",
    "    Conclusion-- The best model obtained </i><br></H2>"
   ]
  },
  {
   "cell_type": "code",
   "execution_count": 93,
   "metadata": {},
   "outputs": [],
   "source": [
    "# the best model is obtained by using KNN, with parameters leaf size = 20 and n_neighbours =5(default)\n",
    "best_model = KNeighborsClassifier(leaf_size=20)\n",
    "best_model.fit(new_x_train,y_train_sm)\n",
    "y_predict= best_model.predict(new_x_test)\n"
   ]
  },
  {
   "cell_type": "code",
   "execution_count": 94,
   "metadata": {},
   "outputs": [
    {
     "name": "stdout",
     "output_type": "stream",
     "text": [
      "[[26  4]\n",
      " [ 1 23]]\n",
      "Recall score : 95.83\n",
      "accuracy : 90.74%\n",
      "f1 score : 0.902\n"
     ]
    }
   ],
   "source": [
    "print(confusion_matrix(y_test,y_predict))\n",
    "print(\"Recall score : {:.2f}\" .format(recall_score(y_test, y_predict)*100))\n",
    "print('accuracy : {:0.2f}%'.format(accuracy_score(y_test,y_predict)* 100))\n",
    "print(\"f1 score : {:0.3f}\".format(f1_score(y_test, y_predict)))"
   ]
  },
  {
   "cell_type": "code",
   "execution_count": null,
   "metadata": {},
   "outputs": [],
   "source": []
  }
 ],
 "metadata": {
  "kernelspec": {
   "display_name": "Python 3",
   "language": "python",
   "name": "python3"
  },
  "language_info": {
   "codemirror_mode": {
    "name": "ipython",
    "version": 3
   },
   "file_extension": ".py",
   "mimetype": "text/x-python",
   "name": "python",
   "nbconvert_exporter": "python",
   "pygments_lexer": "ipython3",
   "version": "3.8.5"
  }
 },
 "nbformat": 4,
 "nbformat_minor": 4
}
